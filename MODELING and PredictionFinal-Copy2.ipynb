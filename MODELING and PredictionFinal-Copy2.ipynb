{
 "cells": [
  {
   "cell_type": "markdown",
   "metadata": {},
   "source": [
    "**Here  i would start from the cleaned data as i have merged by data sets for comparison while working on the eda section. I am going to show which model works better as compared to other models and this Jupyter notebook is going to show the detailed steps needed to accomplish the task. Which is which model works good and which model does not and if  the model overfits or underfitts also**"
   ]
  },
  {
   "cell_type": "markdown",
   "metadata": {},
   "source": [
    "## Modeling and Prediction"
   ]
  },
  {
   "cell_type": "markdown",
   "metadata": {},
   "source": [
    "Project 4: Group exercise"
   ]
  },
  {
   "cell_type": "code",
   "execution_count": 1,
   "metadata": {},
   "outputs": [
    {
     "name": "stderr",
     "output_type": "stream",
     "text": [
      "/Users/kirosgebremariam/anaconda3/envs/dsi/lib/python3.6/site-packages/pandas_profiling/plot.py:15: UserWarning: \n",
      "This call to matplotlib.use() has no effect because the backend has already\n",
      "been chosen; matplotlib.use() must be called *before* pylab, matplotlib.pyplot,\n",
      "or matplotlib.backends is imported for the first time.\n",
      "\n",
      "The backend was *originally* set to 'module://ipykernel.pylab.backend_inline' by the following code:\n",
      "  File \"/Users/kirosgebremariam/anaconda3/envs/dsi/lib/python3.6/runpy.py\", line 193, in _run_module_as_main\n",
      "    \"__main__\", mod_spec)\n",
      "  File \"/Users/kirosgebremariam/anaconda3/envs/dsi/lib/python3.6/runpy.py\", line 85, in _run_code\n",
      "    exec(code, run_globals)\n",
      "  File \"/Users/kirosgebremariam/anaconda3/envs/dsi/lib/python3.6/site-packages/ipykernel/__main__.py\", line 3, in <module>\n",
      "    app.launch_new_instance()\n",
      "  File \"/Users/kirosgebremariam/anaconda3/envs/dsi/lib/python3.6/site-packages/traitlets/config/application.py\", line 658, in launch_instance\n",
      "    app.start()\n",
      "  File \"/Users/kirosgebremariam/anaconda3/envs/dsi/lib/python3.6/site-packages/ipykernel/kernelapp.py\", line 486, in start\n",
      "    self.io_loop.start()\n",
      "  File \"/Users/kirosgebremariam/anaconda3/envs/dsi/lib/python3.6/site-packages/tornado/platform/asyncio.py\", line 127, in start\n",
      "    self.asyncio_loop.run_forever()\n",
      "  File \"/Users/kirosgebremariam/anaconda3/envs/dsi/lib/python3.6/asyncio/base_events.py\", line 422, in run_forever\n",
      "    self._run_once()\n",
      "  File \"/Users/kirosgebremariam/anaconda3/envs/dsi/lib/python3.6/asyncio/base_events.py\", line 1432, in _run_once\n",
      "    handle._run()\n",
      "  File \"/Users/kirosgebremariam/anaconda3/envs/dsi/lib/python3.6/asyncio/events.py\", line 145, in _run\n",
      "    self._callback(*self._args)\n",
      "  File \"/Users/kirosgebremariam/anaconda3/envs/dsi/lib/python3.6/site-packages/tornado/platform/asyncio.py\", line 117, in _handle_events\n",
      "    handler_func(fileobj, events)\n",
      "  File \"/Users/kirosgebremariam/anaconda3/envs/dsi/lib/python3.6/site-packages/tornado/stack_context.py\", line 276, in null_wrapper\n",
      "    return fn(*args, **kwargs)\n",
      "  File \"/Users/kirosgebremariam/anaconda3/envs/dsi/lib/python3.6/site-packages/zmq/eventloop/zmqstream.py\", line 450, in _handle_events\n",
      "    self._handle_recv()\n",
      "  File \"/Users/kirosgebremariam/anaconda3/envs/dsi/lib/python3.6/site-packages/zmq/eventloop/zmqstream.py\", line 480, in _handle_recv\n",
      "    self._run_callback(callback, msg)\n",
      "  File \"/Users/kirosgebremariam/anaconda3/envs/dsi/lib/python3.6/site-packages/zmq/eventloop/zmqstream.py\", line 432, in _run_callback\n",
      "    callback(*args, **kwargs)\n",
      "  File \"/Users/kirosgebremariam/anaconda3/envs/dsi/lib/python3.6/site-packages/tornado/stack_context.py\", line 276, in null_wrapper\n",
      "    return fn(*args, **kwargs)\n",
      "  File \"/Users/kirosgebremariam/anaconda3/envs/dsi/lib/python3.6/site-packages/ipykernel/kernelbase.py\", line 283, in dispatcher\n",
      "    return self.dispatch_shell(stream, msg)\n",
      "  File \"/Users/kirosgebremariam/anaconda3/envs/dsi/lib/python3.6/site-packages/ipykernel/kernelbase.py\", line 233, in dispatch_shell\n",
      "    handler(stream, idents, msg)\n",
      "  File \"/Users/kirosgebremariam/anaconda3/envs/dsi/lib/python3.6/site-packages/ipykernel/kernelbase.py\", line 399, in execute_request\n",
      "    user_expressions, allow_stdin)\n",
      "  File \"/Users/kirosgebremariam/anaconda3/envs/dsi/lib/python3.6/site-packages/ipykernel/ipkernel.py\", line 208, in do_execute\n",
      "    res = shell.run_cell(code, store_history=store_history, silent=silent)\n",
      "  File \"/Users/kirosgebremariam/anaconda3/envs/dsi/lib/python3.6/site-packages/ipykernel/zmqshell.py\", line 537, in run_cell\n",
      "    return super(ZMQInteractiveShell, self).run_cell(*args, **kwargs)\n",
      "  File \"/Users/kirosgebremariam/anaconda3/envs/dsi/lib/python3.6/site-packages/IPython/core/interactiveshell.py\", line 2662, in run_cell\n",
      "    raw_cell, store_history, silent, shell_futures)\n",
      "  File \"/Users/kirosgebremariam/anaconda3/envs/dsi/lib/python3.6/site-packages/IPython/core/interactiveshell.py\", line 2785, in _run_cell\n",
      "    interactivity=interactivity, compiler=compiler, result=result)\n",
      "  File \"/Users/kirosgebremariam/anaconda3/envs/dsi/lib/python3.6/site-packages/IPython/core/interactiveshell.py\", line 2903, in run_ast_nodes\n",
      "    if self.run_code(code, result):\n",
      "  File \"/Users/kirosgebremariam/anaconda3/envs/dsi/lib/python3.6/site-packages/IPython/core/interactiveshell.py\", line 2963, in run_code\n",
      "    exec(code_obj, self.user_global_ns, self.user_ns)\n",
      "  File \"<ipython-input-1-426a49b4237d>\", line 4, in <module>\n",
      "    import matplotlib.pyplot as plt\n",
      "  File \"/Users/kirosgebremariam/anaconda3/envs/dsi/lib/python3.6/site-packages/matplotlib/pyplot.py\", line 71, in <module>\n",
      "    from matplotlib.backends import pylab_setup\n",
      "  File \"/Users/kirosgebremariam/anaconda3/envs/dsi/lib/python3.6/site-packages/matplotlib/backends/__init__.py\", line 16, in <module>\n",
      "    line for line in traceback.format_stack()\n",
      "\n",
      "\n",
      "  matplotlib.use(BACKEND)\n",
      "/Users/kirosgebremariam/anaconda3/envs/dsi/lib/python3.6/site-packages/sklearn/cross_validation.py:41: DeprecationWarning: This module was deprecated in version 0.18 in favor of the model_selection module into which all the refactored classes and functions are moved. Also note that the interface of the new CV iterators are different from that of this module. This module will be removed in 0.20.\n",
      "  \"This module will be removed in 0.20.\", DeprecationWarning)\n"
     ]
    }
   ],
   "source": [
    "# importing necessary libraries\n",
    "import pandas as pd\n",
    "import numpy as np\n",
    "import matplotlib.pyplot as plt\n",
    "import seaborn as sns\n",
    "import pandas_profiling\n",
    "np.random.seed(42)\n",
    "import re\n",
    "from sklearn import svm\n",
    "from sklearn.pipeline import Pipeline\n",
    "from imblearn.over_sampling import SMOTE\n",
    "import xgboost as xgb\n",
    "from sklearn.preprocessing import StandardScaler\n",
    "from sklearn.linear_model import LogisticRegression\n",
    "from sklearn.metrics import confusion_matrix as cm\n",
    "from sklearn.ensemble import RandomForestClassifier, AdaBoostClassifier\n",
    "from sklearn.model_selection import train_test_split,GridSearchCV\n",
    "from sklearn.cross_validation import cross_val_score\n",
    "from sklearn import cross_validation,metrics\n",
    "\n",
    "from matplotlib import rcParams\n",
    "rcParams.update({'figure.autolayout':True})\n",
    "\n",
    "# setting visual\n",
    "\n",
    "plt.style.use('fivethirtyeight')\n",
    "sns.set_style('whitegrid')\n",
    "%config InlineBackend.figure_format = 'retina'\n",
    "% load_ext giphy_magic\n",
    "%matplotlib inline"
   ]
  },
  {
   "cell_type": "code",
   "execution_count": 2,
   "metadata": {},
   "outputs": [],
   "source": [
    "prediction_data=pd.read_csv('./assets/prediction_data1.csv')"
   ]
  },
  {
   "cell_type": "code",
   "execution_count": 3,
   "metadata": {},
   "outputs": [],
   "source": [
    "working_data=pd.read_csv('./assets/working_data1.csv')"
   ]
  },
  {
   "cell_type": "code",
   "execution_count": 4,
   "metadata": {},
   "outputs": [],
   "source": [
    "# train, test=train_test_split(working_data, test_size=.20, random_state=42)"
   ]
  },
  {
   "cell_type": "code",
   "execution_count": 5,
   "metadata": {},
   "outputs": [
    {
     "data": {
      "text/plain": [
       "((10506, 41), (116293, 39))"
      ]
     },
     "execution_count": 5,
     "metadata": {},
     "output_type": "execute_result"
    }
   ],
   "source": [
    "#confirming that the number of rows/observations is still the same\n",
    "working_data.shape, prediction_data.shape"
   ]
  },
  {
   "cell_type": "code",
   "execution_count": 6,
   "metadata": {},
   "outputs": [],
   "source": [
    "#assert working_data.isnull().sum().sum() == 0 # Never hurts to check again for null values."
   ]
  },
  {
   "cell_type": "code",
   "execution_count": 7,
   "metadata": {},
   "outputs": [
    {
     "data": {
      "text/html": [
       "<div>\n",
       "<style scoped>\n",
       "    .dataframe tbody tr th:only-of-type {\n",
       "        vertical-align: middle;\n",
       "    }\n",
       "\n",
       "    .dataframe tbody tr th {\n",
       "        vertical-align: top;\n",
       "    }\n",
       "\n",
       "    .dataframe thead th {\n",
       "        text-align: right;\n",
       "    }\n",
       "</style>\n",
       "<table border=\"1\" class=\"dataframe\">\n",
       "  <thead>\n",
       "    <tr style=\"text-align: right;\">\n",
       "      <th></th>\n",
       "      <th>Unnamed: 0</th>\n",
       "      <th>Date</th>\n",
       "      <th>Address</th>\n",
       "      <th>Species</th>\n",
       "      <th>Block</th>\n",
       "      <th>Street</th>\n",
       "      <th>Trap</th>\n",
       "      <th>AddressNumberAndStreet</th>\n",
       "      <th>Latitude</th>\n",
       "      <th>Longitude</th>\n",
       "      <th>...</th>\n",
       "      <th>SnowFall</th>\n",
       "      <th>PrecipTotal</th>\n",
       "      <th>StnPressure</th>\n",
       "      <th>SeaLevel</th>\n",
       "      <th>ResultSpeed</th>\n",
       "      <th>ResultDir</th>\n",
       "      <th>AvgSpeed</th>\n",
       "      <th>DewPointcl</th>\n",
       "      <th>Trange</th>\n",
       "      <th>SatT</th>\n",
       "    </tr>\n",
       "  </thead>\n",
       "  <tbody>\n",
       "    <tr>\n",
       "      <th>10505</th>\n",
       "      <td>10505</td>\n",
       "      <td>2013-09-26</td>\n",
       "      <td>4200 West 65th Street, Chicago, IL 60621, USA</td>\n",
       "      <td>CULEX PIPIENS/RESTUANS</td>\n",
       "      <td>42</td>\n",
       "      <td>W 65TH ST</td>\n",
       "      <td>T235</td>\n",
       "      <td>4200  W 65TH ST, Chicago, IL</td>\n",
       "      <td>41.776428</td>\n",
       "      <td>-87.627096</td>\n",
       "      <td>...</td>\n",
       "      <td>0.0</td>\n",
       "      <td>0.0</td>\n",
       "      <td>29.34</td>\n",
       "      <td>30.04</td>\n",
       "      <td>3.8</td>\n",
       "      <td>8</td>\n",
       "      <td>4.2</td>\n",
       "      <td>0</td>\n",
       "      <td>25.0</td>\n",
       "      <td>11.0</td>\n",
       "    </tr>\n",
       "  </tbody>\n",
       "</table>\n",
       "<p>1 rows × 41 columns</p>\n",
       "</div>"
      ],
      "text/plain": [
       "       Unnamed: 0        Date                                        Address  \\\n",
       "10505       10505  2013-09-26  4200 West 65th Street, Chicago, IL 60621, USA   \n",
       "\n",
       "                      Species  Block      Street  Trap  \\\n",
       "10505  CULEX PIPIENS/RESTUANS     42   W 65TH ST  T235   \n",
       "\n",
       "             AddressNumberAndStreet   Latitude  Longitude  ...   SnowFall  \\\n",
       "10505  4200  W 65TH ST, Chicago, IL  41.776428 -87.627096  ...        0.0   \n",
       "\n",
       "       PrecipTotal  StnPressure  SeaLevel  ResultSpeed  ResultDir  AvgSpeed  \\\n",
       "10505          0.0        29.34     30.04          3.8          8       4.2   \n",
       "\n",
       "       DewPointcl  Trange  SatT  \n",
       "10505           0    25.0  11.0  \n",
       "\n",
       "[1 rows x 41 columns]"
      ]
     },
     "execution_count": 7,
     "metadata": {},
     "output_type": "execute_result"
    }
   ],
   "source": [
    "working_data.tail(1)"
   ]
  },
  {
   "cell_type": "code",
   "execution_count": 8,
   "metadata": {},
   "outputs": [
    {
     "data": {
      "text/html": [
       "<div>\n",
       "<style scoped>\n",
       "    .dataframe tbody tr th:only-of-type {\n",
       "        vertical-align: middle;\n",
       "    }\n",
       "\n",
       "    .dataframe tbody tr th {\n",
       "        vertical-align: top;\n",
       "    }\n",
       "\n",
       "    .dataframe thead th {\n",
       "        text-align: right;\n",
       "    }\n",
       "</style>\n",
       "<table border=\"1\" class=\"dataframe\">\n",
       "  <thead>\n",
       "    <tr style=\"text-align: right;\">\n",
       "      <th></th>\n",
       "      <th>Unnamed: 0</th>\n",
       "      <th>Date</th>\n",
       "      <th>Address</th>\n",
       "      <th>Species</th>\n",
       "      <th>Block</th>\n",
       "      <th>Street</th>\n",
       "      <th>Trap</th>\n",
       "      <th>AddressNumberAndStreet</th>\n",
       "      <th>Latitude</th>\n",
       "      <th>Longitude</th>\n",
       "      <th>...</th>\n",
       "      <th>SnowFall</th>\n",
       "      <th>PrecipTotal</th>\n",
       "      <th>StnPressure</th>\n",
       "      <th>SeaLevel</th>\n",
       "      <th>ResultSpeed</th>\n",
       "      <th>ResultDir</th>\n",
       "      <th>AvgSpeed</th>\n",
       "      <th>DewPointcl</th>\n",
       "      <th>Trange</th>\n",
       "      <th>SatT</th>\n",
       "    </tr>\n",
       "  </thead>\n",
       "  <tbody>\n",
       "    <tr>\n",
       "      <th>116292</th>\n",
       "      <td>116292</td>\n",
       "      <td>2014-10-02</td>\n",
       "      <td>2100 North Cannon Drive, Chicago, IL 60614, USA</td>\n",
       "      <td>CULEX ERRATICUS</td>\n",
       "      <td>21</td>\n",
       "      <td>N CANNON DR</td>\n",
       "      <td>T054C</td>\n",
       "      <td>2100  N CANNON DR, Chicago, IL</td>\n",
       "      <td>41.925652</td>\n",
       "      <td>-87.63359</td>\n",
       "      <td>...</td>\n",
       "      <td>0.0</td>\n",
       "      <td>0.32</td>\n",
       "      <td>29.03</td>\n",
       "      <td>29.78</td>\n",
       "      <td>7.2</td>\n",
       "      <td>17</td>\n",
       "      <td>7.9</td>\n",
       "      <td>0</td>\n",
       "      <td>9.0</td>\n",
       "      <td>7.0</td>\n",
       "    </tr>\n",
       "  </tbody>\n",
       "</table>\n",
       "<p>1 rows × 39 columns</p>\n",
       "</div>"
      ],
      "text/plain": [
       "        Unnamed: 0        Date  \\\n",
       "116292      116292  2014-10-02   \n",
       "\n",
       "                                                Address          Species  \\\n",
       "116292  2100 North Cannon Drive, Chicago, IL 60614, USA  CULEX ERRATICUS   \n",
       "\n",
       "        Block        Street   Trap          AddressNumberAndStreet   Latitude  \\\n",
       "116292     21   N CANNON DR  T054C  2100  N CANNON DR, Chicago, IL  41.925652   \n",
       "\n",
       "        Longitude  ...   SnowFall  PrecipTotal  StnPressure  SeaLevel  \\\n",
       "116292  -87.63359  ...        0.0         0.32        29.03     29.78   \n",
       "\n",
       "        ResultSpeed  ResultDir  AvgSpeed  DewPointcl  Trange  SatT  \n",
       "116292          7.2         17       7.9           0     9.0   7.0  \n",
       "\n",
       "[1 rows x 39 columns]"
      ]
     },
     "execution_count": 8,
     "metadata": {},
     "output_type": "execute_result"
    }
   ],
   "source": [
    "prediction_data.tail(1)"
   ]
  },
  {
   "cell_type": "code",
   "execution_count": null,
   "metadata": {},
   "outputs": [],
   "source": []
  },
  {
   "cell_type": "code",
   "execution_count": 9,
   "metadata": {},
   "outputs": [
    {
     "data": {
      "text/plain": [
       "Index(['Unnamed: 0', 'Date', 'Address', 'Species', 'Block', 'Street', 'Trap',\n",
       "       'AddressNumberAndStreet', 'Latitude', 'Longitude', 'AddressAccuracy',\n",
       "       'NumMosquitos', 'WnvPresent', 'Hour', 'Week', 'Month', 'Year', 'Day',\n",
       "       'Station', 'Tmax', 'Tmin', 'Tavg', 'Depart', 'DewPoint', 'WetBulb',\n",
       "       'Heat', 'Cool', 'Sunrise', 'Sunset', 'CodeSum', 'Depth', 'SnowFall',\n",
       "       'PrecipTotal', 'StnPressure', 'SeaLevel', 'ResultSpeed', 'ResultDir',\n",
       "       'AvgSpeed', 'DewPointcl', 'Trange', 'SatT'],\n",
       "      dtype='object')"
      ]
     },
     "execution_count": 9,
     "metadata": {},
     "output_type": "execute_result"
    }
   ],
   "source": [
    "working_data.columns"
   ]
  },
  {
   "cell_type": "code",
   "execution_count": 10,
   "metadata": {},
   "outputs": [
    {
     "data": {
      "text/plain": [
       "Index(['Unnamed: 0', 'Date', 'Address', 'Species', 'Block', 'Street', 'Trap',\n",
       "       'AddressNumberAndStreet', 'Latitude', 'Longitude', 'AddressAccuracy',\n",
       "       'Hour', 'Month', 'Year', 'Day', 'Week', 'Station', 'Tmax', 'Tmin',\n",
       "       'Tavg', 'Depart', 'DewPoint', 'WetBulb', 'Heat', 'Cool', 'Sunrise',\n",
       "       'Sunset', 'CodeSum', 'Depth', 'SnowFall', 'PrecipTotal', 'StnPressure',\n",
       "       'SeaLevel', 'ResultSpeed', 'ResultDir', 'AvgSpeed', 'DewPointcl',\n",
       "       'Trange', 'SatT'],\n",
       "      dtype='object')"
      ]
     },
     "execution_count": 10,
     "metadata": {},
     "output_type": "execute_result"
    }
   ],
   "source": [
    "prediction_data.columns"
   ]
  },
  {
   "cell_type": "code",
   "execution_count": 11,
   "metadata": {},
   "outputs": [
    {
     "name": "stdout",
     "output_type": "stream",
     "text": [
      "(10506, 41) (116293, 39)\n"
     ]
    }
   ],
   "source": [
    "print(working_data.shape, prediction_data.shape)"
   ]
  },
  {
   "cell_type": "code",
   "execution_count": 12,
   "metadata": {},
   "outputs": [
    {
     "data": {
      "text/plain": [
       "0.05244622120692932"
      ]
     },
     "execution_count": 12,
     "metadata": {},
     "output_type": "execute_result"
    }
   ],
   "source": [
    "# # calculating Baseline\n",
    "## Check for baseline. \n",
    "\n",
    "baseline = len(working_data[working_data['WnvPresent'] == 0]['WnvPresent']) / float(len(working_data))\n",
    "1- baseline"
   ]
  },
  {
   "cell_type": "markdown",
   "metadata": {},
   "source": [
    "### 2. Feature Engineering\n",
    "These features didn't improve predictive scores, and were not used in the final model:"
   ]
  },
  {
   "cell_type": "code",
   "execution_count": 13,
   "metadata": {},
   "outputs": [],
   "source": [
    "# #get dummy variables for only for mosquito species that have Wnv \n",
    "prediction_data_species = pd.get_dummies(prediction_data['Species'])[['CULEX PIPIENS/RESTUANS','CULEX PIPIENS','CULEX RESTUANS']]\n",
    "working_data_species = pd.get_dummies(working_data['Species'])[['CULEX PIPIENS/RESTUANS','CULEX PIPIENS','CULEX RESTUANS']]\n",
    "                                                      "
   ]
  },
  {
   "cell_type": "code",
   "execution_count": 14,
   "metadata": {},
   "outputs": [
    {
     "data": {
      "text/plain": [
       "Index(['Unnamed: 0', 'Date', 'Address', 'Species', 'Block', 'Street', 'Trap',\n",
       "       'AddressNumberAndStreet', 'Latitude', 'Longitude', 'AddressAccuracy',\n",
       "       'NumMosquitos', 'WnvPresent', 'Hour', 'Week', 'Month', 'Year', 'Day',\n",
       "       'Station', 'Tmax', 'Tmin', 'Tavg', 'Depart', 'DewPoint', 'WetBulb',\n",
       "       'Heat', 'Cool', 'Sunrise', 'Sunset', 'CodeSum', 'Depth', 'SnowFall',\n",
       "       'PrecipTotal', 'StnPressure', 'SeaLevel', 'ResultSpeed', 'ResultDir',\n",
       "       'AvgSpeed', 'DewPointcl', 'Trange', 'SatT'],\n",
       "      dtype='object')"
      ]
     },
     "execution_count": 14,
     "metadata": {},
     "output_type": "execute_result"
    }
   ],
   "source": [
    "working_data.columns"
   ]
  },
  {
   "cell_type": "code",
   "execution_count": 15,
   "metadata": {},
   "outputs": [
    {
     "data": {
      "text/plain": [
       "Index(['Unnamed: 0', 'Date', 'Address', 'Species', 'Block', 'Street', 'Trap',\n",
       "       'AddressNumberAndStreet', 'Latitude', 'Longitude', 'AddressAccuracy',\n",
       "       'Hour', 'Month', 'Year', 'Day', 'Week', 'Station', 'Tmax', 'Tmin',\n",
       "       'Tavg', 'Depart', 'DewPoint', 'WetBulb', 'Heat', 'Cool', 'Sunrise',\n",
       "       'Sunset', 'CodeSum', 'Depth', 'SnowFall', 'PrecipTotal', 'StnPressure',\n",
       "       'SeaLevel', 'ResultSpeed', 'ResultDir', 'AvgSpeed', 'DewPointcl',\n",
       "       'Trange', 'SatT'],\n",
       "      dtype='object')"
      ]
     },
     "execution_count": 15,
     "metadata": {},
     "output_type": "execute_result"
    }
   ],
   "source": [
    "prediction_data.columns"
   ]
  },
  {
   "cell_type": "code",
   "execution_count": 16,
   "metadata": {},
   "outputs": [],
   "source": [
    "#adding to pipiens/restauns, so it can maybe learn from those, since those are the ones that carry wnv?\n",
    "#so it makes it extra sensitive?\n",
    "\n",
    "new_species = []\n",
    "for i in prediction_data['Species']:\n",
    "    if i == 'UNSPECIFIED CULEX':\n",
    "        new_species.append('CULEX PIPIENS/RESTUANS')\n",
    "    else:\n",
    "        new_species.append(i)\n",
    "prediction_data['Species'] = new_species"
   ]
  },
  {
   "cell_type": "code",
   "execution_count": 17,
   "metadata": {},
   "outputs": [
    {
     "data": {
      "text/plain": [
       "CULEX PIPIENS/RESTUANS    29704\n",
       "CULEX RESTUANS            14670\n",
       "CULEX PIPIENS             14521\n",
       "CULEX SALINARIUS          14355\n",
       "CULEX TERRITANS           14351\n",
       "CULEX TARSALIS            14347\n",
       "CULEX ERRATICUS           14345\n",
       "Name: Species, dtype: int64"
      ]
     },
     "execution_count": 17,
     "metadata": {},
     "output_type": "execute_result"
    }
   ],
   "source": [
    "prediction_data['Species'].value_counts()"
   ]
  },
  {
   "cell_type": "code",
   "execution_count": 18,
   "metadata": {},
   "outputs": [
    {
     "data": {
      "text/plain": [
       "CULEX PIPIENS/RESTUANS    4752\n",
       "CULEX RESTUANS            2740\n",
       "CULEX PIPIENS             2699\n",
       "CULEX TERRITANS            222\n",
       "CULEX SALINARIUS            86\n",
       "CULEX TARSALIS               6\n",
       "CULEX ERRATICUS              1\n",
       "Name: Species, dtype: int64"
      ]
     },
     "execution_count": 18,
     "metadata": {},
     "output_type": "execute_result"
    }
   ],
   "source": [
    "working_data['Species'].value_counts()"
   ]
  },
  {
   "cell_type": "code",
   "execution_count": 19,
   "metadata": {},
   "outputs": [],
   "source": [
    "# To get  the missing zipcodes, maybe calculate based on lat/long?\n",
    "# i tried it but i did not see its relevance\n",
    "\n",
    "import re\n",
    "zipcodes = []\n",
    "for i in working_data['Address']:\n",
    "    reg = re.compile('\\d{5}')\n",
    "    zipcodes.append(reg.findall(i)) \n",
    "#working_data['Zipcode'] = zipcodes\n",
    "\n",
    "zipcodes2 = []\n",
    "for i in prediction_data['Address']:\n",
    "    reg = re.compile('\\d{5}')\n",
    "    zipcodes2.append(reg.findall(i)) \n",
    "#prediction_data['Zipcode'] = zipcodes2"
   ]
  },
  {
   "cell_type": "code",
   "execution_count": 20,
   "metadata": {},
   "outputs": [],
   "source": [
    "# working_data.drop(columns=['WetBulb'], axis=1, inplace=True)\n",
    "\n",
    "working_data = pd.get_dummies(working_data, columns=['Species'], drop_first=True)\n",
    "\n",
    "prediction_data.drop(columns=['Unnamed: 0','AddressNumberAndStreet','Date',\n",
    "                        'Latitude', 'Longitude','Address','CodeSum'], axis=1, inplace=True)\n",
    "\n",
    "prediction_data = pd.get_dummies(prediction_data, columns=['Species'], drop_first=True)"
   ]
  },
  {
   "cell_type": "code",
   "execution_count": 21,
   "metadata": {
    "scrolled": true
   },
   "outputs": [
    {
     "data": {
      "text/plain": [
       "Index(['Unnamed: 0', 'Date', 'Address', 'Block', 'Street', 'Trap',\n",
       "       'AddressNumberAndStreet', 'Latitude', 'Longitude', 'AddressAccuracy',\n",
       "       'NumMosquitos', 'WnvPresent', 'Hour', 'Week', 'Month', 'Year', 'Day',\n",
       "       'Station', 'Tmax', 'Tmin', 'Tavg', 'Depart', 'DewPoint', 'WetBulb',\n",
       "       'Heat', 'Cool', 'Sunrise', 'Sunset', 'CodeSum', 'Depth', 'SnowFall',\n",
       "       'PrecipTotal', 'StnPressure', 'SeaLevel', 'ResultSpeed', 'ResultDir',\n",
       "       'AvgSpeed', 'DewPointcl', 'Trange', 'SatT', 'Species_CULEX PIPIENS',\n",
       "       'Species_CULEX PIPIENS/RESTUANS', 'Species_CULEX RESTUANS',\n",
       "       'Species_CULEX SALINARIUS', 'Species_CULEX TARSALIS',\n",
       "       'Species_CULEX TERRITANS'],\n",
       "      dtype='object')"
      ]
     },
     "execution_count": 21,
     "metadata": {},
     "output_type": "execute_result"
    }
   ],
   "source": [
    "working_data.columns"
   ]
  },
  {
   "cell_type": "code",
   "execution_count": 22,
   "metadata": {},
   "outputs": [],
   "source": [
    "working_data.drop(columns=['Unnamed: 0','Address','Date', 'Street', 'Trap','AddressNumberAndStreet','CodeSum','WetBulb',\n",
    "                          'Heat', 'Cool', 'Sunrise', 'Sunset', 'CodeSum','Depart', 'DewPoint', 'Depth', 'SnowFall','PrecipTotal', \n",
    "                           'StnPressure', 'SeaLevel', 'ResultSpeed', 'ResultDir','AvgSpeed', 'DewPointcl', 'Trange',\n",
    "                           'SatT'], axis =1, inplace =True)"
   ]
  },
  {
   "cell_type": "code",
   "execution_count": 23,
   "metadata": {
    "scrolled": true
   },
   "outputs": [
    {
     "data": {
      "text/plain": [
       "Index(['Block', 'Street', 'Trap', 'AddressAccuracy', 'Hour', 'Month', 'Year',\n",
       "       'Day', 'Week', 'Station', 'Tmax', 'Tmin', 'Tavg', 'Depart', 'DewPoint',\n",
       "       'WetBulb', 'Heat', 'Cool', 'Sunrise', 'Sunset', 'Depth', 'SnowFall',\n",
       "       'PrecipTotal', 'StnPressure', 'SeaLevel', 'ResultSpeed', 'ResultDir',\n",
       "       'AvgSpeed', 'DewPointcl', 'Trange', 'SatT', 'Species_CULEX PIPIENS',\n",
       "       'Species_CULEX PIPIENS/RESTUANS', 'Species_CULEX RESTUANS',\n",
       "       'Species_CULEX SALINARIUS', 'Species_CULEX TARSALIS',\n",
       "       'Species_CULEX TERRITANS'],\n",
       "      dtype='object')"
      ]
     },
     "execution_count": 23,
     "metadata": {},
     "output_type": "execute_result"
    }
   ],
   "source": [
    "prediction_data.columns"
   ]
  },
  {
   "cell_type": "code",
   "execution_count": 24,
   "metadata": {},
   "outputs": [],
   "source": [
    "prediction_data.drop(columns=['Street', 'Trap','WetBulb','Heat', 'Cool', 'Sunrise',\n",
    "                              'Sunset', 'Depart', 'DewPoint','Depth', 'SnowFall','PrecipTotal',\n",
    "                              'StnPressure', 'SeaLevel', 'ResultSpeed', 'ResultDir','AvgSpeed', \n",
    "                              'DewPointcl', 'Trange','SatT'], axis =1, inplace =True)"
   ]
  },
  {
   "cell_type": "code",
   "execution_count": 25,
   "metadata": {},
   "outputs": [
    {
     "data": {
      "text/plain": [
       "((10506, 21), (116293, 17))"
      ]
     },
     "execution_count": 25,
     "metadata": {},
     "output_type": "execute_result"
    }
   ],
   "source": [
    "working_data.shape, prediction_data.shape"
   ]
  },
  {
   "cell_type": "markdown",
   "metadata": {},
   "source": [
    "#### 3. Model Building \n",
    "\n",
    "I was working on Each of these models were gird searched manually to find the best hyper-parameters, then the best scoring output  will be submitted to Kaggle based on David Beron and Harsha decisions"
   ]
  },
  {
   "cell_type": "code",
   "execution_count": 26,
   "metadata": {
    "scrolled": true
   },
   "outputs": [],
   "source": [
    "# working_data[columns] = working_data.columns.apply(lambda x: float(x.split()[0].replace(',', '')))\n",
    "# prediction_data[columns] = prediction_data.columns.apply(lambda x: float(x.split()[0].replace(',', '')))"
   ]
  },
  {
   "cell_type": "code",
   "execution_count": 27,
   "metadata": {},
   "outputs": [],
   "source": [
    "# #making sure index is in order\n",
    "# prediction_data = prediction_data.sort_values(by=['Id'])"
   ]
  },
  {
   "cell_type": "code",
   "execution_count": 28,
   "metadata": {},
   "outputs": [],
   "source": [
    "target = working_data.WnvPresent\n",
    "features = working_data.drop(columns=['WnvPresent', \"NumMosquitos\"])"
   ]
  },
  {
   "cell_type": "code",
   "execution_count": 29,
   "metadata": {},
   "outputs": [],
   "source": [
    "X_train, X_test, y_train, y_test = train_test_split(features,\n",
    "                                                    target,\n",
    "                                                    stratify=target,\n",
    "                                                    random_state=42)"
   ]
  },
  {
   "cell_type": "code",
   "execution_count": 30,
   "metadata": {},
   "outputs": [],
   "source": [
    "ss = StandardScaler()\n",
    "X_train = ss.fit_transform(X_train)\n",
    "X_test = ss.transform(X_test)\n"
   ]
  },
  {
   "cell_type": "code",
   "execution_count": 31,
   "metadata": {
    "scrolled": true
   },
   "outputs": [],
   "source": [
    "from sklearn.preprocessing import scale\n",
    "X_test = scale(X_test)"
   ]
  },
  {
   "cell_type": "code",
   "execution_count": 32,
   "metadata": {},
   "outputs": [],
   "source": [
    "# Define X and y variables, train test split, convert into dense matrix (preffered xgboost inputs)\n",
    "\n",
    "X = working_data.drop('WnvPresent', 1)\n",
    "y = working_data.WnvPresent\n",
    "\n",
    "X_train, X_test, y_train, y_test = train_test_split(X, y)\n",
    "\n",
    "D_xgb_mat_working_data = xgb.DMatrix(X_train, y_train)\n",
    "D_xgb_mat_ = xgb.DMatrix(X_test, y_test)"
   ]
  },
  {
   "cell_type": "code",
   "execution_count": 33,
   "metadata": {},
   "outputs": [],
   "source": [
    "## Grid Search Max Depth and Min Child Weight\n",
    "\n",
    "cv_params = {'max_depth': [3,5,7], 'min_child_weight': [1,3,5]}\n",
    "ind_params = {'learning_rate': 0.1, 'n_estimators': 1000, 'subsample': 0.8, 'colsample_bytree': 0.8, \n",
    "             'objective': 'binary:logistic'}\n",
    "\n",
    "optimized_GBM = GridSearchCV(xgb.XGBClassifier(**ind_params), \n",
    "                            cv_params, \n",
    "                             scoring = 'roc_auc', cv = 5, n_jobs = -1)"
   ]
  },
  {
   "cell_type": "code",
   "execution_count": 34,
   "metadata": {},
   "outputs": [
    {
     "data": {
      "text/plain": [
       "GridSearchCV(cv=5, error_score='raise',\n",
       "       estimator=XGBClassifier(base_score=0.5, booster='gbtree', colsample_bylevel=1,\n",
       "       colsample_bytree=0.8, gamma=0, learning_rate=0.1, max_delta_step=0,\n",
       "       max_depth=3, min_child_weight=1, missing=None, n_estimators=1000,\n",
       "       n_jobs=1, nthread=None, objective='binary:logistic', random_state=0,\n",
       "       reg_alpha=0, reg_lambda=1, scale_pos_weight=1, seed=None,\n",
       "       silent=True, subsample=0.8),\n",
       "       fit_params=None, iid=True, n_jobs=-1,\n",
       "       param_grid={'max_depth': [3, 5, 7], 'min_child_weight': [1, 3, 5]},\n",
       "       pre_dispatch='2*n_jobs', refit=True, return_train_score='warn',\n",
       "       scoring='roc_auc', verbose=0)"
      ]
     },
     "execution_count": 34,
     "metadata": {},
     "output_type": "execute_result"
    }
   ],
   "source": [
    "optimized_GBM.fit(X_train, y_train)"
   ]
  },
  {
   "cell_type": "code",
   "execution_count": 35,
   "metadata": {},
   "outputs": [
    {
     "name": "stderr",
     "output_type": "stream",
     "text": [
      "/Users/kirosgebremariam/anaconda3/envs/dsi/lib/python3.6/site-packages/sklearn/model_selection/_search.py:761: DeprecationWarning: The grid_scores_ attribute was deprecated in version 0.18 in favor of the more elaborate cv_results_ attribute. The grid_scores_ attribute will not be available from 0.20\n",
      "  DeprecationWarning)\n"
     ]
    },
    {
     "data": {
      "text/plain": [
       "[mean: 0.83494, std: 0.00994, params: {'max_depth': 3, 'min_child_weight': 1},\n",
       " mean: 0.83598, std: 0.01104, params: {'max_depth': 3, 'min_child_weight': 3},\n",
       " mean: 0.83551, std: 0.01083, params: {'max_depth': 3, 'min_child_weight': 5},\n",
       " mean: 0.82042, std: 0.01589, params: {'max_depth': 5, 'min_child_weight': 1},\n",
       " mean: 0.81968, std: 0.01676, params: {'max_depth': 5, 'min_child_weight': 3},\n",
       " mean: 0.82266, std: 0.01688, params: {'max_depth': 5, 'min_child_weight': 5},\n",
       " mean: 0.81777, std: 0.01346, params: {'max_depth': 7, 'min_child_weight': 1},\n",
       " mean: 0.81584, std: 0.01780, params: {'max_depth': 7, 'min_child_weight': 3},\n",
       " mean: 0.81795, std: 0.01739, params: {'max_depth': 7, 'min_child_weight': 5}]"
      ]
     },
     "execution_count": 35,
     "metadata": {},
     "output_type": "execute_result"
    }
   ],
   "source": [
    "optimized_GBM.grid_scores_"
   ]
  },
  {
   "cell_type": "code",
   "execution_count": 36,
   "metadata": {},
   "outputs": [
    {
     "data": {
      "text/plain": [
       "{'max_depth': 3, 'min_child_weight': 3}"
      ]
     },
     "execution_count": 36,
     "metadata": {},
     "output_type": "execute_result"
    }
   ],
   "source": [
    "# Best Scores\n",
    "optimized_GBM.best_params_"
   ]
  },
  {
   "cell_type": "code",
   "execution_count": 37,
   "metadata": {},
   "outputs": [
    {
     "data": {
      "text/plain": [
       "GridSearchCV(cv=5, error_score='raise',\n",
       "       estimator=XGBClassifier(base_score=0.5, booster='gbtree', colsample_bylevel=1,\n",
       "       colsample_bytree=0.8, gamma=0, learning_rate=0.1, max_delta_step=0,\n",
       "       max_depth=3, min_child_weight=1, missing=None, n_estimators=1000,\n",
       "       n_jobs=1, nthread=None, objective='binary:logistic', random_state=0,\n",
       "       reg_alpha=0, reg_lambda=1, scale_pos_weight=1, seed=None,\n",
       "       silent=True, subsample=1),\n",
       "       fit_params=None, iid=True, n_jobs=-1,\n",
       "       param_grid={'learning_rate': [0.1, 0.01], 'subsample': [0.7, 0.8, 0.9]},\n",
       "       pre_dispatch='2*n_jobs', refit=True, return_train_score='warn',\n",
       "       scoring='roc_auc', verbose=0)"
      ]
     },
     "execution_count": 37,
     "metadata": {},
     "output_type": "execute_result"
    }
   ],
   "source": [
    "# Grid search learning rate and subsample\n",
    "\n",
    "cv_params = {'learning_rate': [0.1, 0.01], 'subsample': [0.7,0.8,0.9]}\n",
    "ind_params = {'n_estimators': 1000, 'colsample_bytree': 0.8, \n",
    "             'objective': 'binary:logistic', 'max_depth': 3, 'min_child_weight': 1}\n",
    "\n",
    "\n",
    "optimized_GBM = GridSearchCV(xgb.XGBClassifier(**ind_params), \n",
    "                            cv_params, \n",
    "                             scoring = 'roc_auc', cv = 5, n_jobs = -1)\n",
    "optimized_GBM.fit(X_train, y_train)"
   ]
  },
  {
   "cell_type": "code",
   "execution_count": 38,
   "metadata": {},
   "outputs": [
    {
     "name": "stderr",
     "output_type": "stream",
     "text": [
      "/Users/kirosgebremariam/anaconda3/envs/dsi/lib/python3.6/site-packages/sklearn/model_selection/_search.py:761: DeprecationWarning: The grid_scores_ attribute was deprecated in version 0.18 in favor of the more elaborate cv_results_ attribute. The grid_scores_ attribute will not be available from 0.20\n",
      "  DeprecationWarning)\n"
     ]
    },
    {
     "data": {
      "text/plain": [
       "[mean: 0.83476, std: 0.00963, params: {'learning_rate': 0.1, 'subsample': 0.7},\n",
       " mean: 0.83494, std: 0.00994, params: {'learning_rate': 0.1, 'subsample': 0.8},\n",
       " mean: 0.83716, std: 0.01105, params: {'learning_rate': 0.1, 'subsample': 0.9},\n",
       " mean: 0.86738, std: 0.00730, params: {'learning_rate': 0.01, 'subsample': 0.7},\n",
       " mean: 0.86709, std: 0.00810, params: {'learning_rate': 0.01, 'subsample': 0.8},\n",
       " mean: 0.86757, std: 0.00812, params: {'learning_rate': 0.01, 'subsample': 0.9}]"
      ]
     },
     "execution_count": 38,
     "metadata": {},
     "output_type": "execute_result"
    }
   ],
   "source": [
    "optimized_GBM.grid_scores_"
   ]
  },
  {
   "cell_type": "code",
   "execution_count": 39,
   "metadata": {},
   "outputs": [
    {
     "data": {
      "text/plain": [
       "{'learning_rate': 0.01, 'subsample': 0.9}"
      ]
     },
     "execution_count": 39,
     "metadata": {},
     "output_type": "execute_result"
    }
   ],
   "source": [
    "# Best Grid Search results\n",
    "\n",
    "optimized_GBM.best_params_"
   ]
  },
  {
   "cell_type": "code",
   "execution_count": 40,
   "metadata": {},
   "outputs": [],
   "source": [
    "# Use parameters from grid search to define our parameters to train our data\n",
    "\n",
    "our_params = {'eta': 0.1, 'silent':0, 'subsample': 0.9, 'colsample_bytree': 0.8, \n",
    "             'objective': 'binary:logistic', 'max_depth':3, 'min_child_weight':1,\n",
    "             'learning_rate':0.1} \n",
    "\n",
    "# Grid Search CV optimized settings\n",
    "\n",
    "cv_xgb = xgb.cv(params = our_params, dtrain = D_xgb_mat_working_data, num_boost_round = 3000, nfold = 5, \n",
    "                metrics = ['auc'], # Make sure you enter metrics inside a list or you may encounter issues!\n",
    "                early_stopping_rounds = 100) # Look for early stopping that minimizes error"
   ]
  },
  {
   "cell_type": "code",
   "execution_count": 41,
   "metadata": {},
   "outputs": [
    {
     "data": {
      "text/html": [
       "<div>\n",
       "<style scoped>\n",
       "    .dataframe tbody tr th:only-of-type {\n",
       "        vertical-align: middle;\n",
       "    }\n",
       "\n",
       "    .dataframe tbody tr th {\n",
       "        vertical-align: top;\n",
       "    }\n",
       "\n",
       "    .dataframe thead th {\n",
       "        text-align: right;\n",
       "    }\n",
       "</style>\n",
       "<table border=\"1\" class=\"dataframe\">\n",
       "  <thead>\n",
       "    <tr style=\"text-align: right;\">\n",
       "      <th></th>\n",
       "      <th>train-auc-mean</th>\n",
       "      <th>train-auc-std</th>\n",
       "      <th>test-auc-mean</th>\n",
       "      <th>test-auc-std</th>\n",
       "    </tr>\n",
       "  </thead>\n",
       "  <tbody>\n",
       "    <tr>\n",
       "      <th>97</th>\n",
       "      <td>0.913802</td>\n",
       "      <td>0.001371</td>\n",
       "      <td>0.870194</td>\n",
       "      <td>0.009794</td>\n",
       "    </tr>\n",
       "    <tr>\n",
       "      <th>98</th>\n",
       "      <td>0.914099</td>\n",
       "      <td>0.001431</td>\n",
       "      <td>0.870390</td>\n",
       "      <td>0.009814</td>\n",
       "    </tr>\n",
       "    <tr>\n",
       "      <th>99</th>\n",
       "      <td>0.914485</td>\n",
       "      <td>0.001474</td>\n",
       "      <td>0.870434</td>\n",
       "      <td>0.009812</td>\n",
       "    </tr>\n",
       "    <tr>\n",
       "      <th>100</th>\n",
       "      <td>0.914862</td>\n",
       "      <td>0.001505</td>\n",
       "      <td>0.870419</td>\n",
       "      <td>0.009539</td>\n",
       "    </tr>\n",
       "    <tr>\n",
       "      <th>101</th>\n",
       "      <td>0.915238</td>\n",
       "      <td>0.001492</td>\n",
       "      <td>0.870458</td>\n",
       "      <td>0.009278</td>\n",
       "    </tr>\n",
       "  </tbody>\n",
       "</table>\n",
       "</div>"
      ],
      "text/plain": [
       "     train-auc-mean  train-auc-std  test-auc-mean  test-auc-std\n",
       "97         0.913802       0.001371       0.870194      0.009794\n",
       "98         0.914099       0.001431       0.870390      0.009814\n",
       "99         0.914485       0.001474       0.870434      0.009812\n",
       "100        0.914862       0.001505       0.870419      0.009539\n",
       "101        0.915238       0.001492       0.870458      0.009278"
      ]
     },
     "execution_count": 41,
     "metadata": {},
     "output_type": "execute_result"
    }
   ],
   "source": [
    "# Optimal number of boosting rounds. Does not carry much efficacy, but is supposed to help against overfitting. \n",
    "# Did not use because it did not seem to help my score\n",
    "\n",
    "cv_xgb.tail()"
   ]
  },
  {
   "cell_type": "code",
   "execution_count": 42,
   "metadata": {},
   "outputs": [],
   "source": [
    "# Train our data\n",
    "\n",
    "final_gb = xgb.train(our_params, D_xgb_mat_working_data, num_boost_round = 20)"
   ]
  },
  {
   "cell_type": "code",
   "execution_count": 43,
   "metadata": {},
   "outputs": [],
   "source": [
    "#Predict training set\n",
    "X_test_predprob = final_gb.predict(D_xgb_mat_)"
   ]
  },
  {
   "cell_type": "code",
   "execution_count": 44,
   "metadata": {},
   "outputs": [
    {
     "name": "stdout",
     "output_type": "stream",
     "text": [
      "AUC Score (Test): 0.863849\n"
     ]
    }
   ],
   "source": [
    "print (\"AUC Score (Test): %f\" % metrics.roc_auc_score(y_test, X_test_predprob))"
   ]
  },
  {
   "cell_type": "code",
   "execution_count": 45,
   "metadata": {},
   "outputs": [
    {
     "data": {
      "text/plain": [
       "<matplotlib.axes._subplots.AxesSubplot at 0x1a0fa11be0>"
      ]
     },
     "execution_count": 45,
     "metadata": {},
     "output_type": "execute_result"
    },
    {
     "name": "stderr",
     "output_type": "stream",
     "text": [
      "/Users/kirosgebremariam/anaconda3/envs/dsi/lib/python3.6/site-packages/matplotlib/figure.py:2267: UserWarning: This figure includes Axes that are not compatible with tight_layout, so results might be incorrect.\n",
      "  warnings.warn(\"This figure includes Axes that are not compatible \"\n"
     ]
    },
    {
     "data": {
      "image/png": "[encoded data removed]",
      "text/plain": [
       "<Figure size 720x576 with 1 Axes>"
      ]
     },
     "metadata": {
      "image/png": {
       "height": 568,
       "width": 712
      }
     },
     "output_type": "display_data"
    }
   ],
   "source": [
    "rcParams['figure.figsize'] = 10, 8\n",
    "xgb.plot_importance(final_gb)\n",
    "\n",
    "# Plot feature importance"
   ]
  },
  {
   "cell_type": "code",
   "execution_count": 46,
   "metadata": {},
   "outputs": [
    {
     "data": {
      "text/plain": [
       "{'NumMosquitos': 32,\n",
       " 'Year': 10,\n",
       " 'Species_CULEX PIPIENS': 1,\n",
       " 'Species_CULEX RESTUANS': 1,\n",
       " 'Week': 27,\n",
       " 'Month': 23,\n",
       " 'Tmax': 8,\n",
       " 'Latitude': 8,\n",
       " 'Longitude': 9,\n",
       " 'Day': 2,\n",
       " 'Block': 1,\n",
       " 'Tavg': 1,\n",
       " 'Tmin': 1}"
      ]
     },
     "execution_count": 46,
     "metadata": {},
     "output_type": "execute_result"
    }
   ],
   "source": [
    "importances = final_gb.get_fscore()\n",
    "importances"
   ]
  },
  {
   "cell_type": "code",
   "execution_count": 47,
   "metadata": {},
   "outputs": [
    {
     "data": {
      "text/plain": [
       "<matplotlib.axes._subplots.AxesSubplot at 0x1a107f8588>"
      ]
     },
     "execution_count": 47,
     "metadata": {},
     "output_type": "execute_result"
    },
    {
     "name": "stderr",
     "output_type": "stream",
     "text": [
      "/Users/kirosgebremariam/anaconda3/envs/dsi/lib/python3.6/site-packages/matplotlib/figure.py:2267: UserWarning: This figure includes Axes that are not compatible with tight_layout, so results might be incorrect.\n",
      "  warnings.warn(\"This figure includes Axes that are not compatible \"\n"
     ]
    },
    {
     "data": {
      "image/png": "[encoded data removed]",
      "text/plain": [
       "<Figure size 576x576 with 1 Axes>"
      ]
     },
     "metadata": {
      "image/png": {
       "height": 568,
       "width": 568
      }
     },
     "output_type": "display_data"
    }
   ],
   "source": [
    "# Plot features in a different style\n",
    "\n",
    "importance_frame = pd.DataFrame({'Importance': list(importances.values()), 'Feature': list(importances.keys())})\n",
    "importance_frame.sort_values(by = 'Importance', inplace = True)\n",
    "importance_frame.plot(kind = 'barh', x = 'Feature', figsize = (8,8), color = 'orange')\n",
    "\n"
   ]
  },
  {
   "cell_type": "code",
   "execution_count": 48,
   "metadata": {},
   "outputs": [],
   "source": [
    "D_xgb_test = xgb.DMatrix(X_test)\n",
    "D_xgb_untest = xgb.DMatrix(X_test)"
   ]
  },
  {
   "cell_type": "code",
   "execution_count": 49,
   "metadata": {},
   "outputs": [
    {
     "name": "stdout",
     "output_type": "stream",
     "text": [
      "[0.06828458 0.25459436 0.07989744 ... 0.174178   0.14226216 0.06828458]\n"
     ]
    }
   ],
   "source": [
    "#Predict training set:\n",
    "X_test_predprob = final_gb.predict(D_xgb_test)\n",
    "print(X_test_predprob)"
   ]
  },
  {
   "cell_type": "code",
   "execution_count": 50,
   "metadata": {},
   "outputs": [],
   "source": [
    "# Export predictions to CSV\n",
    "\n",
    "predictions = final_gb.predict(D_xgb_test)\n",
    "\n",
    "sample = pd.DataFrame(predictions, columns=['WnvPresent'])\n",
    "sample['Id'] = (sample.index + 1)\n",
    "\n",
    "sample.to_csv('AUC_Grid_num_beat_the_benchmark_unbalanced_XGB.csv', index=False)\n",
    "\n"
   ]
  },
  {
   "cell_type": "code",
   "execution_count": 51,
   "metadata": {},
   "outputs": [
    {
     "data": {
      "text/html": [
       "<div>\n",
       "<style scoped>\n",
       "    .dataframe tbody tr th:only-of-type {\n",
       "        vertical-align: middle;\n",
       "    }\n",
       "\n",
       "    .dataframe tbody tr th {\n",
       "        vertical-align: top;\n",
       "    }\n",
       "\n",
       "    .dataframe thead th {\n",
       "        text-align: right;\n",
       "    }\n",
       "</style>\n",
       "<table border=\"1\" class=\"dataframe\">\n",
       "  <thead>\n",
       "    <tr style=\"text-align: right;\">\n",
       "      <th></th>\n",
       "      <th>WnvPresent</th>\n",
       "      <th>Id</th>\n",
       "    </tr>\n",
       "  </thead>\n",
       "  <tbody>\n",
       "    <tr>\n",
       "      <th>0</th>\n",
       "      <td>0.068285</td>\n",
       "      <td>1</td>\n",
       "    </tr>\n",
       "    <tr>\n",
       "      <th>1</th>\n",
       "      <td>0.254594</td>\n",
       "      <td>2</td>\n",
       "    </tr>\n",
       "    <tr>\n",
       "      <th>2</th>\n",
       "      <td>0.079897</td>\n",
       "      <td>3</td>\n",
       "    </tr>\n",
       "    <tr>\n",
       "      <th>3</th>\n",
       "      <td>0.068285</td>\n",
       "      <td>4</td>\n",
       "    </tr>\n",
       "    <tr>\n",
       "      <th>4</th>\n",
       "      <td>0.068285</td>\n",
       "      <td>5</td>\n",
       "    </tr>\n",
       "    <tr>\n",
       "      <th>5</th>\n",
       "      <td>0.076173</td>\n",
       "      <td>6</td>\n",
       "    </tr>\n",
       "    <tr>\n",
       "      <th>6</th>\n",
       "      <td>0.089058</td>\n",
       "      <td>7</td>\n",
       "    </tr>\n",
       "    <tr>\n",
       "      <th>7</th>\n",
       "      <td>0.068912</td>\n",
       "      <td>8</td>\n",
       "    </tr>\n",
       "    <tr>\n",
       "      <th>8</th>\n",
       "      <td>0.101587</td>\n",
       "      <td>9</td>\n",
       "    </tr>\n",
       "    <tr>\n",
       "      <th>9</th>\n",
       "      <td>0.075696</td>\n",
       "      <td>10</td>\n",
       "    </tr>\n",
       "    <tr>\n",
       "      <th>10</th>\n",
       "      <td>0.083787</td>\n",
       "      <td>11</td>\n",
       "    </tr>\n",
       "    <tr>\n",
       "      <th>11</th>\n",
       "      <td>0.070582</td>\n",
       "      <td>12</td>\n",
       "    </tr>\n",
       "    <tr>\n",
       "      <th>12</th>\n",
       "      <td>0.068285</td>\n",
       "      <td>13</td>\n",
       "    </tr>\n",
       "    <tr>\n",
       "      <th>13</th>\n",
       "      <td>0.075696</td>\n",
       "      <td>14</td>\n",
       "    </tr>\n",
       "    <tr>\n",
       "      <th>14</th>\n",
       "      <td>0.068285</td>\n",
       "      <td>15</td>\n",
       "    </tr>\n",
       "    <tr>\n",
       "      <th>15</th>\n",
       "      <td>0.078687</td>\n",
       "      <td>16</td>\n",
       "    </tr>\n",
       "    <tr>\n",
       "      <th>16</th>\n",
       "      <td>0.104662</td>\n",
       "      <td>17</td>\n",
       "    </tr>\n",
       "    <tr>\n",
       "      <th>17</th>\n",
       "      <td>0.197017</td>\n",
       "      <td>18</td>\n",
       "    </tr>\n",
       "    <tr>\n",
       "      <th>18</th>\n",
       "      <td>0.095404</td>\n",
       "      <td>19</td>\n",
       "    </tr>\n",
       "    <tr>\n",
       "      <th>19</th>\n",
       "      <td>0.091652</td>\n",
       "      <td>20</td>\n",
       "    </tr>\n",
       "    <tr>\n",
       "      <th>20</th>\n",
       "      <td>0.083787</td>\n",
       "      <td>21</td>\n",
       "    </tr>\n",
       "    <tr>\n",
       "      <th>21</th>\n",
       "      <td>0.068285</td>\n",
       "      <td>22</td>\n",
       "    </tr>\n",
       "    <tr>\n",
       "      <th>22</th>\n",
       "      <td>0.147133</td>\n",
       "      <td>23</td>\n",
       "    </tr>\n",
       "    <tr>\n",
       "      <th>23</th>\n",
       "      <td>0.086375</td>\n",
       "      <td>24</td>\n",
       "    </tr>\n",
       "    <tr>\n",
       "      <th>24</th>\n",
       "      <td>0.077116</td>\n",
       "      <td>25</td>\n",
       "    </tr>\n",
       "    <tr>\n",
       "      <th>25</th>\n",
       "      <td>0.091652</td>\n",
       "      <td>26</td>\n",
       "    </tr>\n",
       "    <tr>\n",
       "      <th>26</th>\n",
       "      <td>0.181616</td>\n",
       "      <td>27</td>\n",
       "    </tr>\n",
       "    <tr>\n",
       "      <th>27</th>\n",
       "      <td>0.181616</td>\n",
       "      <td>28</td>\n",
       "    </tr>\n",
       "    <tr>\n",
       "      <th>28</th>\n",
       "      <td>0.083787</td>\n",
       "      <td>29</td>\n",
       "    </tr>\n",
       "    <tr>\n",
       "      <th>29</th>\n",
       "      <td>0.086375</td>\n",
       "      <td>30</td>\n",
       "    </tr>\n",
       "    <tr>\n",
       "      <th>...</th>\n",
       "      <td>...</td>\n",
       "      <td>...</td>\n",
       "    </tr>\n",
       "    <tr>\n",
       "      <th>2597</th>\n",
       "      <td>0.068285</td>\n",
       "      <td>2598</td>\n",
       "    </tr>\n",
       "    <tr>\n",
       "      <th>2598</th>\n",
       "      <td>0.165303</td>\n",
       "      <td>2599</td>\n",
       "    </tr>\n",
       "    <tr>\n",
       "      <th>2599</th>\n",
       "      <td>0.113864</td>\n",
       "      <td>2600</td>\n",
       "    </tr>\n",
       "    <tr>\n",
       "      <th>2600</th>\n",
       "      <td>0.098410</td>\n",
       "      <td>2601</td>\n",
       "    </tr>\n",
       "    <tr>\n",
       "      <th>2601</th>\n",
       "      <td>0.181616</td>\n",
       "      <td>2602</td>\n",
       "    </tr>\n",
       "    <tr>\n",
       "      <th>2602</th>\n",
       "      <td>0.076173</td>\n",
       "      <td>2603</td>\n",
       "    </tr>\n",
       "    <tr>\n",
       "      <th>2603</th>\n",
       "      <td>0.078687</td>\n",
       "      <td>2604</td>\n",
       "    </tr>\n",
       "    <tr>\n",
       "      <th>2604</th>\n",
       "      <td>0.090635</td>\n",
       "      <td>2605</td>\n",
       "    </tr>\n",
       "    <tr>\n",
       "      <th>2605</th>\n",
       "      <td>0.092550</td>\n",
       "      <td>2606</td>\n",
       "    </tr>\n",
       "    <tr>\n",
       "      <th>2606</th>\n",
       "      <td>0.068285</td>\n",
       "      <td>2607</td>\n",
       "    </tr>\n",
       "    <tr>\n",
       "      <th>2607</th>\n",
       "      <td>0.091652</td>\n",
       "      <td>2608</td>\n",
       "    </tr>\n",
       "    <tr>\n",
       "      <th>2608</th>\n",
       "      <td>0.091652</td>\n",
       "      <td>2609</td>\n",
       "    </tr>\n",
       "    <tr>\n",
       "      <th>2609</th>\n",
       "      <td>0.093688</td>\n",
       "      <td>2610</td>\n",
       "    </tr>\n",
       "    <tr>\n",
       "      <th>2610</th>\n",
       "      <td>0.150698</td>\n",
       "      <td>2611</td>\n",
       "    </tr>\n",
       "    <tr>\n",
       "      <th>2611</th>\n",
       "      <td>0.181616</td>\n",
       "      <td>2612</td>\n",
       "    </tr>\n",
       "    <tr>\n",
       "      <th>2612</th>\n",
       "      <td>0.083787</td>\n",
       "      <td>2613</td>\n",
       "    </tr>\n",
       "    <tr>\n",
       "      <th>2613</th>\n",
       "      <td>0.076310</td>\n",
       "      <td>2614</td>\n",
       "    </tr>\n",
       "    <tr>\n",
       "      <th>2614</th>\n",
       "      <td>0.070582</td>\n",
       "      <td>2615</td>\n",
       "    </tr>\n",
       "    <tr>\n",
       "      <th>2615</th>\n",
       "      <td>0.086375</td>\n",
       "      <td>2616</td>\n",
       "    </tr>\n",
       "    <tr>\n",
       "      <th>2616</th>\n",
       "      <td>0.081392</td>\n",
       "      <td>2617</td>\n",
       "    </tr>\n",
       "    <tr>\n",
       "      <th>2617</th>\n",
       "      <td>0.068285</td>\n",
       "      <td>2618</td>\n",
       "    </tr>\n",
       "    <tr>\n",
       "      <th>2618</th>\n",
       "      <td>0.306134</td>\n",
       "      <td>2619</td>\n",
       "    </tr>\n",
       "    <tr>\n",
       "      <th>2619</th>\n",
       "      <td>0.076310</td>\n",
       "      <td>2620</td>\n",
       "    </tr>\n",
       "    <tr>\n",
       "      <th>2620</th>\n",
       "      <td>0.077928</td>\n",
       "      <td>2621</td>\n",
       "    </tr>\n",
       "    <tr>\n",
       "      <th>2621</th>\n",
       "      <td>0.076173</td>\n",
       "      <td>2622</td>\n",
       "    </tr>\n",
       "    <tr>\n",
       "      <th>2622</th>\n",
       "      <td>0.068285</td>\n",
       "      <td>2623</td>\n",
       "    </tr>\n",
       "    <tr>\n",
       "      <th>2623</th>\n",
       "      <td>0.068285</td>\n",
       "      <td>2624</td>\n",
       "    </tr>\n",
       "    <tr>\n",
       "      <th>2624</th>\n",
       "      <td>0.174178</td>\n",
       "      <td>2625</td>\n",
       "    </tr>\n",
       "    <tr>\n",
       "      <th>2625</th>\n",
       "      <td>0.142262</td>\n",
       "      <td>2626</td>\n",
       "    </tr>\n",
       "    <tr>\n",
       "      <th>2626</th>\n",
       "      <td>0.068285</td>\n",
       "      <td>2627</td>\n",
       "    </tr>\n",
       "  </tbody>\n",
       "</table>\n",
       "<p>2627 rows × 2 columns</p>\n",
       "</div>"
      ],
      "text/plain": [
       "      WnvPresent    Id\n",
       "0       0.068285     1\n",
       "1       0.254594     2\n",
       "2       0.079897     3\n",
       "3       0.068285     4\n",
       "4       0.068285     5\n",
       "5       0.076173     6\n",
       "6       0.089058     7\n",
       "7       0.068912     8\n",
       "8       0.101587     9\n",
       "9       0.075696    10\n",
       "10      0.083787    11\n",
       "11      0.070582    12\n",
       "12      0.068285    13\n",
       "13      0.075696    14\n",
       "14      0.068285    15\n",
       "15      0.078687    16\n",
       "16      0.104662    17\n",
       "17      0.197017    18\n",
       "18      0.095404    19\n",
       "19      0.091652    20\n",
       "20      0.083787    21\n",
       "21      0.068285    22\n",
       "22      0.147133    23\n",
       "23      0.086375    24\n",
       "24      0.077116    25\n",
       "25      0.091652    26\n",
       "26      0.181616    27\n",
       "27      0.181616    28\n",
       "28      0.083787    29\n",
       "29      0.086375    30\n",
       "...          ...   ...\n",
       "2597    0.068285  2598\n",
       "2598    0.165303  2599\n",
       "2599    0.113864  2600\n",
       "2600    0.098410  2601\n",
       "2601    0.181616  2602\n",
       "2602    0.076173  2603\n",
       "2603    0.078687  2604\n",
       "2604    0.090635  2605\n",
       "2605    0.092550  2606\n",
       "2606    0.068285  2607\n",
       "2607    0.091652  2608\n",
       "2608    0.091652  2609\n",
       "2609    0.093688  2610\n",
       "2610    0.150698  2611\n",
       "2611    0.181616  2612\n",
       "2612    0.083787  2613\n",
       "2613    0.076310  2614\n",
       "2614    0.070582  2615\n",
       "2615    0.086375  2616\n",
       "2616    0.081392  2617\n",
       "2617    0.068285  2618\n",
       "2618    0.306134  2619\n",
       "2619    0.076310  2620\n",
       "2620    0.077928  2621\n",
       "2621    0.076173  2622\n",
       "2622    0.068285  2623\n",
       "2623    0.068285  2624\n",
       "2624    0.174178  2625\n",
       "2625    0.142262  2626\n",
       "2626    0.068285  2627\n",
       "\n",
       "[2627 rows x 2 columns]"
      ]
     },
     "execution_count": 51,
     "metadata": {},
     "output_type": "execute_result"
    }
   ],
   "source": [
    "sample"
   ]
  },
  {
   "cell_type": "code",
   "execution_count": 52,
   "metadata": {},
   "outputs": [],
   "source": [
    "wnv = working_data[working_data['WnvPresent'] == 0]\n",
    "w1nv = working_data[working_data['WnvPresent'] == 1]"
   ]
  },
  {
   "cell_type": "code",
   "execution_count": 53,
   "metadata": {},
   "outputs": [
    {
     "name": "stdout",
     "output_type": "stream",
     "text": [
      "total 10506\n",
      "No wnv 9955\n",
      "wnv 551\n"
     ]
    }
   ],
   "source": [
    "print ('total', len(working_data))\n",
    "print ('No wnv', len(wnv))\n",
    "print ('wnv', len(w1nv))"
   ]
  },
  {
   "cell_type": "code",
   "execution_count": 54,
   "metadata": {},
   "outputs": [],
   "source": [
    "def bootstrap_sample(sample, n=100, replicate = False, size=100):\n",
    "    ''' Generates bootstrap samples and bootstrap replicates. \n",
    "    Bootstrap sample size defaults to 100. \n",
    "    Returns bootstrap samples unless replicate function supplied.'''\n",
    "        \n",
    "    bootstraps = [list(np.random.choice(sample, size = size)) for i in range(n)]\n",
    "    \n",
    "    if replicate == False:\n",
    "        return(bootstraps)\n",
    "    else:\n",
    "        return(list(map(replicate, bootstraps)))"
   ]
  },
  {
   "cell_type": "markdown",
   "metadata": {},
   "source": [
    "##### Repeating the above process after checking the existance of Data gap"
   ]
  },
  {
   "cell_type": "code",
   "execution_count": 55,
   "metadata": {},
   "outputs": [],
   "source": [
    "target = working_data.WnvPresent\n",
    "features = working_data.drop(columns=['WnvPresent', \"NumMosquitos\"])"
   ]
  },
  {
   "cell_type": "code",
   "execution_count": 56,
   "metadata": {},
   "outputs": [],
   "source": [
    "X_train, X_test, y_train, y_test = train_test_split(features,\n",
    "                                                    target,\n",
    "                                                    stratify=target,\n",
    "                                                    random_state=42)"
   ]
  },
  {
   "cell_type": "code",
   "execution_count": 57,
   "metadata": {},
   "outputs": [
    {
     "data": {
      "text/plain": [
       "0    0.947554\n",
       "1    0.052446\n",
       "Name: WnvPresent, dtype: float64"
      ]
     },
     "execution_count": 57,
     "metadata": {},
     "output_type": "execute_result"
    }
   ],
   "source": [
    "working_data.WnvPresent.value_counts(normalize=True)"
   ]
  },
  {
   "cell_type": "code",
   "execution_count": 58,
   "metadata": {},
   "outputs": [
    {
     "name": "stdout",
     "output_type": "stream",
     "text": [
      "dict_keys([1, 0])\n",
      "dict_values([7466, 7466])\n"
     ]
    }
   ],
   "source": [
    "# using SMOTE to achieve a better ratio of wnv. SMOTE is a synthetic data bootstrapping.\n",
    "# ratio 0.5 will set the data to be a 66% original data to 34% new data.\n",
    "sm = SMOTE(random_state=42, ratio='auto')\n",
    "\n",
    "X_train_res, y_train_res = sm.fit_sample(X_train, y_train)\n",
    "\n",
    "from collections import Counter\n",
    "\n",
    "print(Counter(y_train_res).keys()) # 0 = Wnv not present, 1 = Wnv present.\n",
    "print(Counter(y_train_res).values()) # The values represent the keys respectively."
   ]
  },
  {
   "cell_type": "code",
   "execution_count": 59,
   "metadata": {},
   "outputs": [],
   "source": [
    "# Ustandardization and applying all models at once\n",
    "ss  = StandardScaler()\n",
    "\n",
    "logreg = LogisticRegression()\n",
    "rfc = RandomForestClassifier(n_estimators=14, random_state=42)\n",
    "adb = AdaBoostClassifier(n_estimators=100, learning_rate=0.1, random_state=42)"
   ]
  },
  {
   "cell_type": "code",
   "execution_count": 60,
   "metadata": {},
   "outputs": [],
   "source": [
    "# making pipeline for choosing best model\n",
    "pipe_logreg = Pipeline([\n",
    "    ('ss', ss),\n",
    "    ('logreg', logreg)\n",
    "])\n",
    "pipe_rfc = Pipeline([\n",
    "    ('ss', ss),\n",
    "    ('rfc', rfc),\n",
    "])\n",
    "pipe_adb = Pipeline([\n",
    "    ('ss', ss),\n",
    "    ('adb', adb)\n",
    "])"
   ]
  },
  {
   "cell_type": "code",
   "execution_count": 61,
   "metadata": {},
   "outputs": [],
   "source": [
    "# # what are the best parameters that would predict wnv\n",
    "\n",
    "# grid_logreg = GridSearchCV(estimator=pipe_logreg,\n",
    "#                         param_grid=params_logreg,\n",
    "#                         scoring='roc_auc',\n",
    "#                         cv=5)\n",
    "# grid_rfc = GridSearchCV(estimator=pipe_rfc,\n",
    "#                         param_grid=params_rfc,\n",
    "#                         scoring='roc_auc',\n",
    "#                         cv=5)\n",
    "# grid_adb = GridSearchCV(estimator=pipe_adb,\n",
    "#                         param_grid=params_adb,\n",
    "#                         scoring='roc_auc',\n",
    "#                         cv=5)"
   ]
  },
  {
   "cell_type": "code",
   "execution_count": 62,
   "metadata": {},
   "outputs": [
    {
     "name": "stdout",
     "output_type": "stream",
     "text": [
      "\n",
      "Score Train/Test: Logistic Regression\n",
      "0.6625206244447265\n",
      "0.6688237533307956\n",
      "\n",
      "Score Train/Test: Random Forest\n",
      "0.9729661124508187\n",
      "0.9219642177388656\n",
      "\n",
      "Score Train/Test: Adaboost\n",
      "0.7678639421246352\n",
      "0.7742672249714503\n",
      "CPU times: user 2.38 s, sys: 37.5 ms, total: 2.42 s\n",
      "Wall time: 2.69 s\n"
     ]
    }
   ],
   "source": [
    "%%time\n",
    "pipes    = [ \n",
    "    pipe_logreg, \n",
    "    pipe_rfc, \n",
    "    pipe_adb,\n",
    "]\n",
    "pipe_idx = {0: 'Logistic Regression', \n",
    "            1: 'Random Forest', \n",
    "            2: 'Adaboost'\n",
    "           }\n",
    "\n",
    "for idx, pipe in enumerate(pipes):\n",
    "    pipe.fit(X_train_res, y_train_res)\n",
    "    print('\\nScore Train/Test: %s' % pipe_idx[idx])\n",
    "    print(pipe.score(X_train, y_train))\n",
    "    print(pipe.score(X_test, y_test))\n",
    "#     print('Best params: %s' % pipe.best_params_)"
   ]
  },
  {
   "cell_type": "code",
   "execution_count": 63,
   "metadata": {},
   "outputs": [
    {
     "data": {
      "text/plain": [
       "[(0.1439739681792844, 'Week'),\n",
       " (0.13469505558181408, 'Month'),\n",
       " (0.10594375250841767, 'Species_CULEX PIPIENS'),\n",
       " (0.07834948186662886, 'Longitude'),\n",
       " (0.07209189536213723, 'Block'),\n",
       " (0.07170000394834501, 'AddressAccuracy'),\n",
       " (0.062337820000151756, 'Species_CULEX PIPIENS/RESTUANS'),\n",
       " (0.05984270055456977, 'Latitude'),\n",
       " (0.055052959986298555, 'Year'),\n",
       " (0.04664851479300487, 'Tmax'),\n",
       " (0.04563059057718505, 'Tmin'),\n",
       " (0.04496273511580777, 'Species_CULEX RESTUANS'),\n",
       " (0.03861015037999303, 'Day'),\n",
       " (0.037790413434139344, 'Tavg'),\n",
       " (0.0019836644409385157, 'Species_CULEX TERRITANS'),\n",
       " (0.0003534344291004285, 'Species_CULEX SALINARIUS'),\n",
       " (3.285884218373334e-05, 'Species_CULEX TARSALIS'),\n",
       " (0.0, 'Station'),\n",
       " (0.0, 'Hour')]"
      ]
     },
     "execution_count": 63,
     "metadata": {},
     "output_type": "execute_result"
    }
   ],
   "source": [
    "feat = pipe_rfc.named_steps['rfc']\n",
    "\n",
    "importance = feat.feature_importances_\n",
    "\n",
    "# Daylight and months correlate to being the most important features.  Clearly based on time of year\n",
    "# In addition with latitude and longitude to target the specific\n",
    "sorted(list(zip(importance, features.keys())), reverse=True)"
   ]
  },
  {
   "cell_type": "code",
   "execution_count": 64,
   "metadata": {},
   "outputs": [],
   "source": [
    "prediction_data.to_csv('Prediction_data_transformed.csv', index=False)\n",
    "working_data.to_csv('working_data_transformed.csv', index=False)"
   ]
  },
  {
   "cell_type": "code",
   "execution_count": 65,
   "metadata": {},
   "outputs": [],
   "source": [
    "# predictions = pipe_rfc.predict(prediction_data )"
   ]
  },
  {
   "cell_type": "code",
   "execution_count": 66,
   "metadata": {},
   "outputs": [
    {
     "data": {
      "text/plain": [
       "2627"
      ]
     },
     "execution_count": 66,
     "metadata": {},
     "output_type": "execute_result"
    }
   ],
   "source": [
    "len(predictions)"
   ]
  },
  {
   "cell_type": "code",
   "execution_count": 67,
   "metadata": {},
   "outputs": [],
   "source": [
    "# sample_submission = pd.read_csv('./assets/sampleSubmission.csv')\n",
    "# sample_submission['WnvPresent'] = predictions\n",
    "# # sample_submission.to_csv('submission_randomforest6.csv', index=False)"
   ]
  },
  {
   "cell_type": "code",
   "execution_count": 68,
   "metadata": {},
   "outputs": [],
   "source": [
    "# print(Counter(predictions).keys()) # 0 = Wnv not present, 1 = Wnv present.\n",
    "# print(Counter(predictions).values()) # The values represent the keys respectively."
   ]
  },
  {
   "cell_type": "code",
   "execution_count": 69,
   "metadata": {},
   "outputs": [],
   "source": [
    " #add additional package\n",
    "import os\n",
    "from scipy import stats\n",
    "from sklearn.model_selection import train_test_split, GridSearchCV\n",
    "from sklearn.linear_model import LogisticRegressionCV\n",
    "from sklearn.metrics import roc_auc_score, confusion_matrix\n",
    "from sklearn.ensemble import RandomForestClassifier"
   ]
  },
  {
   "cell_type": "code",
   "execution_count": 70,
   "metadata": {},
   "outputs": [],
   "source": [
    "y = working_data.WnvPresent\n",
    "X = working_data.drop(columns=['WnvPresent', \"NumMosquitos\"])\n",
    "\n",
    "X_train, X_test, y_train, y_test = train_test_split(X,\n",
    "                                                    y,\n",
    "                                                    stratify=y,\n",
    "                                                    random_state=42)"
   ]
  },
  {
   "cell_type": "code",
   "execution_count": 71,
   "metadata": {},
   "outputs": [
    {
     "name": "stdout",
     "output_type": "stream",
     "text": [
      "(6303, 19)\n",
      "(2101, 19)\n",
      "(2102, 19)\n"
     ]
    }
   ],
   "source": [
    "X_train, X_test, y_train, y_test = train_test_split(X,y, test_size=.4) # Using an initial split of 60/40\n",
    "X_val, X_test, y_val, y_test     = train_test_split(X_test, y_test, test_size=.5) # Splitting the test set\n",
    "\n",
    "print(X_train.shape)\n",
    "print(X_val.shape)\n",
    "print(X_test.shape)"
   ]
  },
  {
   "cell_type": "code",
   "execution_count": 72,
   "metadata": {},
   "outputs": [
    {
     "data": {
      "text/plain": [
       "0.5849595430747263"
      ]
     },
     "execution_count": 72,
     "metadata": {},
     "output_type": "execute_result"
    }
   ],
   "source": [
    "logreg = LogisticRegressionCV(class_weight = 'balanced', penalty='l1', solver='liblinear', scoring = 'roc_auc')\n",
    "logreg.fit(X_train,y_train)\n",
    "logreg.score(X_val, y_val)"
   ]
  },
  {
   "cell_type": "code",
   "execution_count": 73,
   "metadata": {},
   "outputs": [
    {
     "data": {
      "text/html": [
       "<div>\n",
       "<style scoped>\n",
       "    .dataframe tbody tr th:only-of-type {\n",
       "        vertical-align: middle;\n",
       "    }\n",
       "\n",
       "    .dataframe tbody tr th {\n",
       "        vertical-align: top;\n",
       "    }\n",
       "\n",
       "    .dataframe thead th {\n",
       "        text-align: right;\n",
       "    }\n",
       "</style>\n",
       "<table border=\"1\" class=\"dataframe\">\n",
       "  <thead>\n",
       "    <tr style=\"text-align: right;\">\n",
       "      <th></th>\n",
       "      <th>preds</th>\n",
       "      <th>probability</th>\n",
       "    </tr>\n",
       "  </thead>\n",
       "  <tbody>\n",
       "    <tr>\n",
       "      <th>1</th>\n",
       "      <td>1</td>\n",
       "      <td>0.524218</td>\n",
       "    </tr>\n",
       "    <tr>\n",
       "      <th>2</th>\n",
       "      <td>1</td>\n",
       "      <td>0.531343</td>\n",
       "    </tr>\n",
       "    <tr>\n",
       "      <th>9</th>\n",
       "      <td>1</td>\n",
       "      <td>0.589183</td>\n",
       "    </tr>\n",
       "    <tr>\n",
       "      <th>13</th>\n",
       "      <td>1</td>\n",
       "      <td>0.501635</td>\n",
       "    </tr>\n",
       "    <tr>\n",
       "      <th>14</th>\n",
       "      <td>1</td>\n",
       "      <td>0.824965</td>\n",
       "    </tr>\n",
       "    <tr>\n",
       "      <th>17</th>\n",
       "      <td>1</td>\n",
       "      <td>0.643224</td>\n",
       "    </tr>\n",
       "    <tr>\n",
       "      <th>18</th>\n",
       "      <td>1</td>\n",
       "      <td>0.577002</td>\n",
       "    </tr>\n",
       "    <tr>\n",
       "      <th>19</th>\n",
       "      <td>1</td>\n",
       "      <td>0.639590</td>\n",
       "    </tr>\n",
       "    <tr>\n",
       "      <th>21</th>\n",
       "      <td>1</td>\n",
       "      <td>0.701548</td>\n",
       "    </tr>\n",
       "    <tr>\n",
       "      <th>22</th>\n",
       "      <td>1</td>\n",
       "      <td>0.562743</td>\n",
       "    </tr>\n",
       "  </tbody>\n",
       "</table>\n",
       "</div>"
      ],
      "text/plain": [
       "    preds  probability\n",
       "1       1     0.524218\n",
       "2       1     0.531343\n",
       "9       1     0.589183\n",
       "13      1     0.501635\n",
       "14      1     0.824965\n",
       "17      1     0.643224\n",
       "18      1     0.577002\n",
       "19      1     0.639590\n",
       "21      1     0.701548\n",
       "22      1     0.562743"
      ]
     },
     "execution_count": 73,
     "metadata": {},
     "output_type": "execute_result"
    }
   ],
   "source": [
    "predictions = pd.DataFrame({'preds':logreg.predict(X_val), 'probability':[x[1] for x in logreg.predict_proba(X_val)]})\n",
    "predictions[predictions['preds'] == True].head(10)"
   ]
  },
  {
   "cell_type": "code",
   "execution_count": 74,
   "metadata": {},
   "outputs": [
    {
     "data": {
      "text/plain": [
       "0.6936936936936936"
      ]
     },
     "execution_count": 74,
     "metadata": {},
     "output_type": "execute_result"
    }
   ],
   "source": [
    "roc_auc_score(y_val, y_score = predictions['probability'])"
   ]
  },
  {
   "cell_type": "code",
   "execution_count": 75,
   "metadata": {},
   "outputs": [
    {
     "name": "stdout",
     "output_type": "stream",
     "text": [
      "[[1154  844]\n",
      " [  28   75]]\n"
     ]
    }
   ],
   "source": [
    "CM = confusion_matrix(y_val, y_pred = logreg.predict(X_val))\n",
    "print(CM)"
   ]
  },
  {
   "cell_type": "code",
   "execution_count": 76,
   "metadata": {},
   "outputs": [],
   "source": [
    "TN = CM[0][0]\n",
    "TP = CM[1][1]\n",
    "FN = CM[1][0]\n",
    "FP = CM[0][1]\n",
    "\n",
    "# Sensitivity, or true positive rate\n",
    "_ = TP / (TP + FN)\n",
    "\n",
    "# False positives per true positive\n",
    "_ = FP / TP\n",
    "\n",
    "# # Precision, or positive predictive value\n",
    "_ = TP / (TP + FP)"
   ]
  },
  {
   "cell_type": "code",
   "execution_count": 77,
   "metadata": {},
   "outputs": [],
   "source": [
    "def predict_with_threshold(probas, threshold):\n",
    "    '''Returns predictions of the positive class using a given classification\n",
    "    threshold. Assumes the positive class is the second (index 1).'''\n",
    "    prob_positive = [x[1] for x in probas]\n",
    "    preds         = [1 if x > threshold else 0 for x in prob_positive]\n",
    "    return(preds)"
   ]
  },
  {
   "cell_type": "code",
   "execution_count": 78,
   "metadata": {},
   "outputs": [
    {
     "name": "stdout",
     "output_type": "stream",
     "text": [
      "[[1792  206]\n",
      " [  85   18]]\n"
     ]
    }
   ],
   "source": [
    "CM = confusion_matrix(y_val, y_pred = predict_with_threshold(logreg.predict_proba(X_val), .7))\n",
    "print(CM)"
   ]
  },
  {
   "cell_type": "code",
   "execution_count": 79,
   "metadata": {},
   "outputs": [],
   "source": [
    "TN = CM[0][0]\n",
    "TP = CM[1][1]\n",
    "FN = CM[1][0]\n",
    "FP = CM[0][1]\n",
    "\n",
    "# Sensitivity, or true positive rate\n",
    "_ = TP / (TP + FN)\n",
    "\n",
    "# False positives per true positive\n",
    "_ = FP / TP\n",
    "\n",
    "# # Precision, or positive predictive value\n",
    "_ = TP / (TP + FP)"
   ]
  },
  {
   "cell_type": "code",
   "execution_count": 80,
   "metadata": {},
   "outputs": [],
   "source": [
    "logreg_coefficients = pd.DataFrame({'Variable':X_train.columns,'Coefficients':logreg.coef_[0]})"
   ]
  },
  {
   "cell_type": "code",
   "execution_count": 81,
   "metadata": {},
   "outputs": [
    {
     "data": {
      "text/html": [
       "<div>\n",
       "<style scoped>\n",
       "    .dataframe tbody tr th:only-of-type {\n",
       "        vertical-align: middle;\n",
       "    }\n",
       "\n",
       "    .dataframe tbody tr th {\n",
       "        vertical-align: top;\n",
       "    }\n",
       "\n",
       "    .dataframe thead th {\n",
       "        text-align: right;\n",
       "    }\n",
       "</style>\n",
       "<table border=\"1\" class=\"dataframe\">\n",
       "  <thead>\n",
       "    <tr style=\"text-align: right;\">\n",
       "      <th></th>\n",
       "      <th>Variable</th>\n",
       "      <th>Coefficients</th>\n",
       "    </tr>\n",
       "  </thead>\n",
       "  <tbody>\n",
       "    <tr>\n",
       "      <th>6</th>\n",
       "      <td>Month</td>\n",
       "      <td>2.734254</td>\n",
       "    </tr>\n",
       "    <tr>\n",
       "      <th>1</th>\n",
       "      <td>Latitude</td>\n",
       "      <td>0.268518</td>\n",
       "    </tr>\n",
       "    <tr>\n",
       "      <th>12</th>\n",
       "      <td>Tavg</td>\n",
       "      <td>0.119805</td>\n",
       "    </tr>\n",
       "    <tr>\n",
       "      <th>3</th>\n",
       "      <td>AddressAccuracy</td>\n",
       "      <td>0.097889</td>\n",
       "    </tr>\n",
       "    <tr>\n",
       "      <th>8</th>\n",
       "      <td>Day</td>\n",
       "      <td>0.089391</td>\n",
       "    </tr>\n",
       "  </tbody>\n",
       "</table>\n",
       "</div>"
      ],
      "text/plain": [
       "           Variable  Coefficients\n",
       "6             Month      2.734254\n",
       "1          Latitude      0.268518\n",
       "12             Tavg      0.119805\n",
       "3   AddressAccuracy      0.097889\n",
       "8               Day      0.089391"
      ]
     },
     "execution_count": 81,
     "metadata": {},
     "output_type": "execute_result"
    }
   ],
   "source": [
    "logreg_coefficients.sort_values(by='Coefficients', ascending=False).head(5)"
   ]
  },
  {
   "cell_type": "code",
   "execution_count": 82,
   "metadata": {},
   "outputs": [
    {
     "data": {
      "text/html": [
       "<div>\n",
       "<style scoped>\n",
       "    .dataframe tbody tr th:only-of-type {\n",
       "        vertical-align: middle;\n",
       "    }\n",
       "\n",
       "    .dataframe tbody tr th {\n",
       "        vertical-align: top;\n",
       "    }\n",
       "\n",
       "    .dataframe thead th {\n",
       "        text-align: right;\n",
       "    }\n",
       "</style>\n",
       "<table border=\"1\" class=\"dataframe\">\n",
       "  <thead>\n",
       "    <tr style=\"text-align: right;\">\n",
       "      <th></th>\n",
       "      <th>Variable</th>\n",
       "      <th>Coefficients</th>\n",
       "    </tr>\n",
       "  </thead>\n",
       "  <tbody>\n",
       "    <tr>\n",
       "      <th>9</th>\n",
       "      <td>Station</td>\n",
       "      <td>-20.015796</td>\n",
       "    </tr>\n",
       "    <tr>\n",
       "      <th>18</th>\n",
       "      <td>Species_CULEX TERRITANS</td>\n",
       "      <td>-12.275491</td>\n",
       "    </tr>\n",
       "    <tr>\n",
       "      <th>16</th>\n",
       "      <td>Species_CULEX SALINARIUS</td>\n",
       "      <td>-11.017101</td>\n",
       "    </tr>\n",
       "    <tr>\n",
       "      <th>17</th>\n",
       "      <td>Species_CULEX TARSALIS</td>\n",
       "      <td>-8.513104</td>\n",
       "    </tr>\n",
       "    <tr>\n",
       "      <th>15</th>\n",
       "      <td>Species_CULEX RESTUANS</td>\n",
       "      <td>-1.363158</td>\n",
       "    </tr>\n",
       "  </tbody>\n",
       "</table>\n",
       "</div>"
      ],
      "text/plain": [
       "                    Variable  Coefficients\n",
       "9                    Station    -20.015796\n",
       "18   Species_CULEX TERRITANS    -12.275491\n",
       "16  Species_CULEX SALINARIUS    -11.017101\n",
       "17    Species_CULEX TARSALIS     -8.513104\n",
       "15    Species_CULEX RESTUANS     -1.363158"
      ]
     },
     "execution_count": 82,
     "metadata": {},
     "output_type": "execute_result"
    }
   ],
   "source": [
    "logreg_coefficients.sort_values(by='Coefficients', ascending=True).head(5)"
   ]
  },
  {
   "cell_type": "code",
   "execution_count": 83,
   "metadata": {},
   "outputs": [
    {
     "data": {
      "text/plain": [
       "0.9471680152308425"
      ]
     },
     "execution_count": 83,
     "metadata": {},
     "output_type": "execute_result"
    }
   ],
   "source": [
    "forest = RandomForestClassifier()\n",
    "forest.fit(X_train, y_train)\n",
    "forest.score(X_val, y_val)"
   ]
  },
  {
   "cell_type": "code",
   "execution_count": 84,
   "metadata": {},
   "outputs": [
    {
     "data": {
      "text/plain": [
       "0.7271300426640233"
      ]
     },
     "execution_count": 84,
     "metadata": {},
     "output_type": "execute_result"
    }
   ],
   "source": [
    "predictions = pd.DataFrame({'preds':forest.predict(X_val), 'probability':[x[1] for x in forest.predict_proba(X_val)]})\n",
    "\n",
    "roc_auc_score(y_val, y_score = predictions['probability'])"
   ]
  },
  {
   "cell_type": "code",
   "execution_count": 85,
   "metadata": {},
   "outputs": [],
   "source": [
    "# Re-initialize the model with a few hyperparameters set.\n",
    "forest = RandomForestClassifier(max_depth=150, max_features='auto', class_weight='balanced_subsample')\n",
    "\n",
    "# Then create a grid of parameter values to try:\n",
    "param_grid = {'n_estimators':[300,500]} #,'max_features':['auto',None], 'max_depth':[150, 200]}"
   ]
  },
  {
   "cell_type": "code",
   "execution_count": 86,
   "metadata": {},
   "outputs": [
    {
     "data": {
      "text/plain": [
       "GridSearchCV(cv=None, error_score='raise',\n",
       "       estimator=RandomForestClassifier(bootstrap=True, class_weight='balanced_subsample',\n",
       "            criterion='gini', max_depth=150, max_features='auto',\n",
       "            max_leaf_nodes=None, min_impurity_decrease=0.0,\n",
       "            min_impurity_split=None, min_samples_leaf=1,\n",
       "            min_samples_split=2, min_weight_fraction_leaf=0.0,\n",
       "            n_estimators=10, n_jobs=1, oob_score=False, random_state=None,\n",
       "            verbose=0, warm_start=False),\n",
       "       fit_params=None, iid=True, n_jobs=-1,\n",
       "       param_grid={'n_estimators': [300, 500]}, pre_dispatch='2*n_jobs',\n",
       "       refit=True, return_train_score='warn', scoring='roc_auc', verbose=0)"
      ]
     },
     "execution_count": 86,
     "metadata": {},
     "output_type": "execute_result"
    }
   ],
   "source": [
    "forest_grid = GridSearchCV(forest, param_grid=param_grid, scoring='roc_auc', n_jobs = -1)\n",
    "forest_grid.fit(X_train, y_train)"
   ]
  },
  {
   "cell_type": "code",
   "execution_count": 87,
   "metadata": {},
   "outputs": [
    {
     "data": {
      "text/plain": [
       "RandomForestClassifier(bootstrap=True, class_weight='balanced_subsample',\n",
       "            criterion='gini', max_depth=150, max_features='auto',\n",
       "            max_leaf_nodes=None, min_impurity_decrease=0.0,\n",
       "            min_impurity_split=None, min_samples_leaf=1,\n",
       "            min_samples_split=2, min_weight_fraction_leaf=0.0,\n",
       "            n_estimators=500, n_jobs=1, oob_score=False, random_state=None,\n",
       "            verbose=0, warm_start=False)"
      ]
     },
     "execution_count": 87,
     "metadata": {},
     "output_type": "execute_result"
    }
   ],
   "source": [
    "# the hyperparameter values we already established by grid searching incrementally.\n",
    "forest_grid.best_estimator_"
   ]
  },
  {
   "cell_type": "code",
   "execution_count": 88,
   "metadata": {},
   "outputs": [
    {
     "data": {
      "text/plain": [
       "0.9262256068538791"
      ]
     },
     "execution_count": 88,
     "metadata": {},
     "output_type": "execute_result"
    }
   ],
   "source": [
    "forest = forest_grid.best_estimator_\n",
    "forest.fit(X_train, y_train)\n",
    "forest.score(X_val, y_val)\n",
    "\n",
    "# When we train and evaluate the accuracy of our model using the best\n",
    "# hyperparameters, we observe an accuracy score "
   ]
  },
  {
   "cell_type": "code",
   "execution_count": 89,
   "metadata": {},
   "outputs": [
    {
     "data": {
      "text/html": [
       "<div>\n",
       "<style scoped>\n",
       "    .dataframe tbody tr th:only-of-type {\n",
       "        vertical-align: middle;\n",
       "    }\n",
       "\n",
       "    .dataframe tbody tr th {\n",
       "        vertical-align: top;\n",
       "    }\n",
       "\n",
       "    .dataframe thead th {\n",
       "        text-align: right;\n",
       "    }\n",
       "</style>\n",
       "<table border=\"1\" class=\"dataframe\">\n",
       "  <thead>\n",
       "    <tr style=\"text-align: right;\">\n",
       "      <th></th>\n",
       "      <th>preds</th>\n",
       "      <th>probability</th>\n",
       "    </tr>\n",
       "  </thead>\n",
       "  <tbody>\n",
       "    <tr>\n",
       "      <th>7</th>\n",
       "      <td>1</td>\n",
       "      <td>0.505885</td>\n",
       "    </tr>\n",
       "    <tr>\n",
       "      <th>23</th>\n",
       "      <td>1</td>\n",
       "      <td>0.596716</td>\n",
       "    </tr>\n",
       "    <tr>\n",
       "      <th>48</th>\n",
       "      <td>1</td>\n",
       "      <td>0.560944</td>\n",
       "    </tr>\n",
       "    <tr>\n",
       "      <th>49</th>\n",
       "      <td>1</td>\n",
       "      <td>0.691328</td>\n",
       "    </tr>\n",
       "    <tr>\n",
       "      <th>53</th>\n",
       "      <td>1</td>\n",
       "      <td>0.513263</td>\n",
       "    </tr>\n",
       "    <tr>\n",
       "      <th>61</th>\n",
       "      <td>1</td>\n",
       "      <td>0.611893</td>\n",
       "    </tr>\n",
       "    <tr>\n",
       "      <th>100</th>\n",
       "      <td>1</td>\n",
       "      <td>0.812407</td>\n",
       "    </tr>\n",
       "    <tr>\n",
       "      <th>103</th>\n",
       "      <td>1</td>\n",
       "      <td>0.591940</td>\n",
       "    </tr>\n",
       "    <tr>\n",
       "      <th>115</th>\n",
       "      <td>1</td>\n",
       "      <td>0.846645</td>\n",
       "    </tr>\n",
       "    <tr>\n",
       "      <th>128</th>\n",
       "      <td>1</td>\n",
       "      <td>0.782578</td>\n",
       "    </tr>\n",
       "  </tbody>\n",
       "</table>\n",
       "</div>"
      ],
      "text/plain": [
       "     preds  probability\n",
       "7        1     0.505885\n",
       "23       1     0.596716\n",
       "48       1     0.560944\n",
       "49       1     0.691328\n",
       "53       1     0.513263\n",
       "61       1     0.611893\n",
       "100      1     0.812407\n",
       "103      1     0.591940\n",
       "115      1     0.846645\n",
       "128      1     0.782578"
      ]
     },
     "execution_count": 89,
     "metadata": {},
     "output_type": "execute_result"
    }
   ],
   "source": [
    "predictions = pd.DataFrame({'preds':forest.predict(X_val), 'probability':[x[1] for x in forest.predict_proba(X_val)]})\n",
    "predictions[predictions['preds'] == True].head(10)"
   ]
  },
  {
   "cell_type": "code",
   "execution_count": 90,
   "metadata": {},
   "outputs": [
    {
     "data": {
      "text/plain": [
       "0.7676147020807215"
      ]
     },
     "execution_count": 90,
     "metadata": {},
     "output_type": "execute_result"
    }
   ],
   "source": [
    "# And the AUC-ROC score Just based on performance, the optimized random forest model \n",
    "roc_auc_score(y_val, y_score = predictions['probability'])"
   ]
  },
  {
   "cell_type": "code",
   "execution_count": 91,
   "metadata": {},
   "outputs": [
    {
     "name": "stdout",
     "output_type": "stream",
     "text": [
      "[[1923   75]\n",
      " [  80   23]]\n"
     ]
    }
   ],
   "source": [
    "# We can do the same analysis for random forests that we did for the logistic regression,\n",
    "# which is what we'll do in order to help decide which model is best:\n",
    "\n",
    "CM = confusion_matrix(y_val, y_pred = forest.predict(X_val))\n",
    "print(CM)"
   ]
  },
  {
   "cell_type": "code",
   "execution_count": 92,
   "metadata": {},
   "outputs": [
    {
     "name": "stdout",
     "output_type": "stream",
     "text": [
      "0.22330097087378642 3.260869565217391 0.23469387755102042\n"
     ]
    }
   ],
   "source": [
    "TN = CM[0][0]\n",
    "TP = CM[1][1]\n",
    "FN = CM[1][0]\n",
    "FP = CM[0][1]\n",
    "\n",
    "# Sensitivity, or true positive rate\n",
    "sens = TP / (TP + FN)\n",
    "\n",
    "# False positives per true positive\n",
    "fp_tp = FP / TP\n",
    "\n",
    "# Precision, or positive predictive value\n",
    "prec = TP / (TP + FP)\n",
    "\n",
    "print(sens, fp_tp, prec)"
   ]
  },
  {
   "cell_type": "code",
   "execution_count": 93,
   "metadata": {},
   "outputs": [
    {
     "name": "stdout",
     "output_type": "stream",
     "text": [
      "[[1836  162]\n",
      " [  63   40]]\n"
     ]
    }
   ],
   "source": [
    "# With a lower classification threshold, the model performs more \n",
    "# closely to the ogistic regression's\n",
    "\n",
    "CM = confusion_matrix(y_val, y_pred = predict_with_threshold(forest.predict_proba(X_val), .25))\n",
    "print(CM)"
   ]
  },
  {
   "cell_type": "code",
   "execution_count": 94,
   "metadata": {},
   "outputs": [
    {
     "name": "stdout",
     "output_type": "stream",
     "text": [
      "0.3883495145631068 4.05 0.19801980198019803\n"
     ]
    }
   ],
   "source": [
    "TN = CM[0][0]\n",
    "TP = CM[1][1]\n",
    "FN = CM[1][0]\n",
    "FP = CM[0][1]\n",
    "\n",
    "# Sensitivity, or true positive rate\n",
    "sens = TP / (TP + FN)\n",
    "\n",
    "# False positives per true positive\n",
    "fp_tp = FP / TP\n",
    "\n",
    "# Precision, or positive predictive value\n",
    "prec = TP / (TP + FP)\n",
    "\n",
    "print(sens, fp_tp, prec)"
   ]
  },
  {
   "cell_type": "code",
   "execution_count": 95,
   "metadata": {},
   "outputs": [],
   "source": [
    "test_predictions = pd.DataFrame({'y_true':y_test,\n",
    "                                 'LR_prob':[x[1] for x in logreg.predict_proba(X_test)],\n",
    "                                 'Forest_prob':[x[1] for x in forest.predict_proba(X_test)]})\n",
    "# Visually inspecting the results of each model we can see that the random forest model\n",
    "# is more likely to classify non wnv."
   ]
  },
  {
   "cell_type": "code",
   "execution_count": 96,
   "metadata": {},
   "outputs": [
    {
     "name": "stdout",
     "output_type": "stream",
     "text": [
      "Logistic Regression Score on Test Set:0.7407842785355349\n",
      "Random Forest Score on Test Set:0.8095163316582914\n"
     ]
    }
   ],
   "source": [
    "print('Logistic Regression Score on Test Set:' + str(roc_auc_score(y_test, y_score = test_predictions['LR_prob'])))\n",
    "print('Random Forest Score on Test Set:' + str(roc_auc_score(y_test, y_score = test_predictions['Forest_prob'])))"
   ]
  },
  {
   "cell_type": "code",
   "execution_count": 97,
   "metadata": {},
   "outputs": [
    {
     "data": {
      "text/html": [
       "<div>\n",
       "<style scoped>\n",
       "    .dataframe tbody tr th:only-of-type {\n",
       "        vertical-align: middle;\n",
       "    }\n",
       "\n",
       "    .dataframe tbody tr th {\n",
       "        vertical-align: top;\n",
       "    }\n",
       "\n",
       "    .dataframe thead th {\n",
       "        text-align: right;\n",
       "    }\n",
       "</style>\n",
       "<table border=\"1\" class=\"dataframe\">\n",
       "  <thead>\n",
       "    <tr style=\"text-align: right;\">\n",
       "      <th></th>\n",
       "      <th>Variables</th>\n",
       "      <th>Importances</th>\n",
       "    </tr>\n",
       "  </thead>\n",
       "  <tbody>\n",
       "    <tr>\n",
       "      <th>2</th>\n",
       "      <td>Longitude</td>\n",
       "      <td>0.145159</td>\n",
       "    </tr>\n",
       "    <tr>\n",
       "      <th>5</th>\n",
       "      <td>Week</td>\n",
       "      <td>0.134970</td>\n",
       "    </tr>\n",
       "    <tr>\n",
       "      <th>1</th>\n",
       "      <td>Latitude</td>\n",
       "      <td>0.127043</td>\n",
       "    </tr>\n",
       "    <tr>\n",
       "      <th>0</th>\n",
       "      <td>Block</td>\n",
       "      <td>0.105998</td>\n",
       "    </tr>\n",
       "    <tr>\n",
       "      <th>6</th>\n",
       "      <td>Month</td>\n",
       "      <td>0.078383</td>\n",
       "    </tr>\n",
       "  </tbody>\n",
       "</table>\n",
       "</div>"
      ],
      "text/plain": [
       "   Variables  Importances\n",
       "2  Longitude     0.145159\n",
       "5       Week     0.134970\n",
       "1   Latitude     0.127043\n",
       "0      Block     0.105998\n",
       "6      Month     0.078383"
      ]
     },
     "execution_count": 97,
     "metadata": {},
     "output_type": "execute_result"
    }
   ],
   "source": [
    "# To understand the effect of different features in a random forest model, we have to \n",
    "# compute feature importances:\n",
    "Forest_Importances = pd.DataFrame({'Variables':X_train.columns,'Importances':forest.feature_importances_})\n",
    "Forest_Importances.sort_values(by='Importances', ascending=False).head()"
   ]
  },
  {
   "cell_type": "code",
   "execution_count": 98,
   "metadata": {},
   "outputs": [
    {
     "data": {
      "text/html": [
       "<div>\n",
       "<style scoped>\n",
       "    .dataframe tbody tr th:only-of-type {\n",
       "        vertical-align: middle;\n",
       "    }\n",
       "\n",
       "    .dataframe tbody tr th {\n",
       "        vertical-align: top;\n",
       "    }\n",
       "\n",
       "    .dataframe thead th {\n",
       "        text-align: right;\n",
       "    }\n",
       "</style>\n",
       "<table border=\"1\" class=\"dataframe\">\n",
       "  <thead>\n",
       "    <tr style=\"text-align: right;\">\n",
       "      <th></th>\n",
       "      <th>Variables</th>\n",
       "      <th>Importances</th>\n",
       "    </tr>\n",
       "  </thead>\n",
       "  <tbody>\n",
       "    <tr>\n",
       "      <th>9</th>\n",
       "      <td>Station</td>\n",
       "      <td>0.000000</td>\n",
       "    </tr>\n",
       "    <tr>\n",
       "      <th>4</th>\n",
       "      <td>Hour</td>\n",
       "      <td>0.000000</td>\n",
       "    </tr>\n",
       "    <tr>\n",
       "      <th>17</th>\n",
       "      <td>Species_CULEX TARSALIS</td>\n",
       "      <td>0.000023</td>\n",
       "    </tr>\n",
       "    <tr>\n",
       "      <th>16</th>\n",
       "      <td>Species_CULEX SALINARIUS</td>\n",
       "      <td>0.000957</td>\n",
       "    </tr>\n",
       "    <tr>\n",
       "      <th>18</th>\n",
       "      <td>Species_CULEX TERRITANS</td>\n",
       "      <td>0.004000</td>\n",
       "    </tr>\n",
       "  </tbody>\n",
       "</table>\n",
       "</div>"
      ],
      "text/plain": [
       "                   Variables  Importances\n",
       "9                    Station     0.000000\n",
       "4                       Hour     0.000000\n",
       "17    Species_CULEX TARSALIS     0.000023\n",
       "16  Species_CULEX SALINARIUS     0.000957\n",
       "18   Species_CULEX TERRITANS     0.004000"
      ]
     },
     "execution_count": 98,
     "metadata": {},
     "output_type": "execute_result"
    }
   ],
   "source": [
    "Forest_Importances.sort_values(by='Importances', ascending=True).head()"
   ]
  },
  {
   "cell_type": "code",
   "execution_count": 99,
   "metadata": {},
   "outputs": [],
   "source": [
    "# summary summarize model performance:\n",
    "\n",
    "Final_Model_Performance = pd.DataFrame(columns = ['Threshold','True Positive Rate',\n",
    "                                        'False Positives Per True Positive'])"
   ]
  },
  {
   "cell_type": "code",
   "execution_count": 100,
   "metadata": {},
   "outputs": [],
   "source": [
    "for threshold in range(10,95,5):\n",
    "    CM = confusion_matrix(y_test, y_pred = predict_with_threshold(forest.predict_proba(X_test), threshold/100))\n",
    "\n",
    "    TP = CM[1][1]\n",
    "    FN = CM[1][0]\n",
    "    FP = CM[0][1]\n",
    "\n",
    "    sens = TP / (TP + FN)\n",
    "    try:\n",
    "        fp_tp = FP / TP\n",
    "    except:\n",
    "        fp_tp = 0\n",
    "    Final_Model_Performance.loc[Final_Model_Performance.shape[0]] = [threshold, sens, fp_tp] "
   ]
  },
  {
   "cell_type": "code",
   "execution_count": 101,
   "metadata": {},
   "outputs": [],
   "source": [
    "Final_Model_Performance = Final_Model_Performance.set_index('Threshold')"
   ]
  },
  {
   "cell_type": "code",
   "execution_count": 102,
   "metadata": {},
   "outputs": [
    {
     "name": "stderr",
     "output_type": "stream",
     "text": [
      "/Users/kirosgebremariam/anaconda3/envs/dsi/lib/python3.6/site-packages/matplotlib/figure.py:2267: UserWarning: This figure includes Axes that are not compatible with tight_layout, so results might be incorrect.\n",
      "  warnings.warn(\"This figure includes Axes that are not compatible \"\n"
     ]
    },
    {
     "data": {
      "image/png": "[encoded data removed]",
      "text/plain": [
       "<Figure size 720x576 with 1 Axes>"
      ]
     },
     "metadata": {
      "image/png": {
       "height": 568,
       "width": 712
      }
     },
     "output_type": "display_data"
    }
   ],
   "source": [
    "_ = Final_Model_Performance.plot()\n",
    "_ = plt.title('Model Performance :\\nHow Many False Positives Are You Comfortable  to have wnv?')\n",
    "_ = plt.xlabel('Classification Threshold')"
   ]
  },
  {
   "cell_type": "markdown",
   "metadata": {},
   "source": [
    "##### Logistic Regression"
   ]
  },
  {
   "cell_type": "code",
   "execution_count": 103,
   "metadata": {},
   "outputs": [
    {
     "name": "stdout",
     "output_type": "stream",
     "text": [
      "0.9466920514040933\n",
      "0.9467174119885823\n"
     ]
    }
   ],
   "source": [
    "from sklearn.pipeline import Pipeline\n",
    "from sklearn.linear_model import LogisticRegression\n",
    " \n",
    "\n",
    "logreg = LogisticRegression()\n",
    "\n",
    "log_pipe = Pipeline([ \n",
    "    ('log',logreg), \n",
    "])\n",
    "\n",
    "log_pipe.fit(X_train, y_train)\n",
    "print(log_pipe.score(X_train,y_train))\n",
    "print(log_pipe.score(X_test,y_test))"
   ]
  },
  {
   "cell_type": "code",
   "execution_count": 104,
   "metadata": {},
   "outputs": [
    {
     "name": "stdout",
     "output_type": "stream",
     "text": [
      "tn: 1990, fp: 0, fn: 112, tp: 0\n"
     ]
    }
   ],
   "source": [
    "from sklearn.metrics import confusion_matrix\n",
    "\n",
    "y_pred = log_pipe.predict(X_test)\n",
    "tn, fp, fn, tp = confusion_matrix(y_test, y_pred).ravel()\n",
    "print(\"tn: {}, fp: {}, fn: {}, tp: {}\".format (tn, fp, fn, tp))"
   ]
  },
  {
   "cell_type": "markdown",
   "metadata": {},
   "source": [
    "##### KNN"
   ]
  },
  {
   "cell_type": "code",
   "execution_count": 105,
   "metadata": {},
   "outputs": [],
   "source": [
    "# knn takes forever"
   ]
  },
  {
   "cell_type": "code",
   "execution_count": 106,
   "metadata": {},
   "outputs": [
    {
     "data": {
      "text/plain": [
       "0.9429115128449096"
      ]
     },
     "execution_count": 106,
     "metadata": {},
     "output_type": "execute_result"
    }
   ],
   "source": [
    "from sklearn.pipeline import Pipeline\n",
    "from sklearn.preprocessing import StandardScaler \n",
    "from sklearn.neighbors import KNeighborsClassifier\n",
    "\n",
    "\n",
    "knn = KNeighborsClassifier()\n",
    "\n",
    "knn_c_pipe = Pipeline([ \n",
    "    ('knn',knn), \n",
    "])\n",
    "knn_c_pipe.fit(X_train, y_train)\n",
    "knn_c_pipe.score(X_test, y_test)"
   ]
  },
  {
   "cell_type": "code",
   "execution_count": 107,
   "metadata": {},
   "outputs": [
    {
     "data": {
      "text/plain": [
       "dict_keys(['memory', 'steps', 'knn', 'knn__algorithm', 'knn__leaf_size', 'knn__metric', 'knn__metric_params', 'knn__n_jobs', 'knn__n_neighbors', 'knn__p', 'knn__weights'])"
      ]
     },
     "execution_count": 107,
     "metadata": {},
     "output_type": "execute_result"
    }
   ],
   "source": [
    "knn_c_pipe.get_params().keys()"
   ]
  },
  {
   "cell_type": "markdown",
   "metadata": {},
   "source": [
    "##### Decision Tree Classifier"
   ]
  },
  {
   "cell_type": "code",
   "execution_count": 109,
   "metadata": {},
   "outputs": [
    {
     "name": "stdout",
     "output_type": "stream",
     "text": [
      "0.9466920514040933\n",
      "{'max_depth': 1, 'max_features': 1}\n"
     ]
    }
   ],
   "source": [
    "from sklearn.tree import DecisionTreeClassifier\n",
    "from sklearn.model_selection import GridSearchCV\n",
    "dt_c = DecisionTreeClassifier(max_depth=5)\n",
    "\n",
    "\n",
    "params = {\n",
    "    'max_depth':[1, 2, 3, 5, 7, 10],\n",
    "    'max_features':[1, 2,  3, 5]\n",
    "}\n",
    "\n",
    "\n",
    "gs_dt = GridSearchCV(estimator = dt_c, param_grid = params)\n",
    "gs_dt.fit(X_train, y_train)\n",
    "print(gs_dt.best_score_)\n",
    "print(gs_dt.best_params_)"
   ]
  },
  {
   "cell_type": "code",
   "execution_count": 110,
   "metadata": {},
   "outputs": [
    {
     "data": {
      "text/plain": [
       "dict_keys(['class_weight', 'criterion', 'max_depth', 'max_features', 'max_leaf_nodes', 'min_impurity_decrease', 'min_impurity_split', 'min_samples_leaf', 'min_samples_split', 'min_weight_fraction_leaf', 'presort', 'random_state', 'splitter'])"
      ]
     },
     "execution_count": 110,
     "metadata": {},
     "output_type": "execute_result"
    }
   ],
   "source": [
    "dt_c.get_params().keys()"
   ]
  },
  {
   "cell_type": "code",
   "execution_count": 112,
   "metadata": {},
   "outputs": [
    {
     "name": "stdout",
     "output_type": "stream",
     "text": [
      "tn: 1990, fp: 0, fn: 112, tp: 0\n"
     ]
    }
   ],
   "source": [
    "y_pred = gs_dt.predict(X_test)\n",
    "tn, fp, fn, tp = confusion_matrix(y_test, y_pred).ravel()\n",
    "print(\"tn: {}, fp: {}, fn: {}, tp: {}\".format (tn, fp, fn, tp))"
   ]
  },
  {
   "cell_type": "markdown",
   "metadata": {},
   "source": [
    "##### Random Forest Classifier"
   ]
  },
  {
   "cell_type": "code",
   "execution_count": 113,
   "metadata": {},
   "outputs": [
    {
     "name": "stdout",
     "output_type": "stream",
     "text": [
      "0.9466920514040933\n",
      "{'max_depth': 1, 'max_features': 3, 'n_estimators': 3}\n"
     ]
    }
   ],
   "source": [
    "from sklearn.model_selection import GridSearchCV\n",
    "from sklearn.ensemble import RandomForestClassifier\n",
    "rf_c = RandomForestClassifier()\n",
    "\n",
    "\n",
    "params = {\n",
    "    'n_estimators': [3,5,7,10], \n",
    "    'max_features': [3, 5, 7],\n",
    "    'max_depth': [1, 2 , 3, 4]\n",
    "}\n",
    "gs_rf = GridSearchCV(rf_c, param_grid=params)\n",
    "gs_rf.fit(X_train, y_train)\n",
    "print(gs_rf.best_score_)\n",
    "print(gs_rf.best_params_)"
   ]
  },
  {
   "cell_type": "code",
   "execution_count": 114,
   "metadata": {},
   "outputs": [
    {
     "data": {
      "text/plain": [
       "dict_keys(['bootstrap', 'class_weight', 'criterion', 'max_depth', 'max_features', 'max_leaf_nodes', 'min_impurity_decrease', 'min_impurity_split', 'min_samples_leaf', 'min_samples_split', 'min_weight_fraction_leaf', 'n_estimators', 'n_jobs', 'oob_score', 'random_state', 'verbose', 'warm_start'])"
      ]
     },
     "execution_count": 114,
     "metadata": {},
     "output_type": "execute_result"
    }
   ],
   "source": [
    "rf_c.get_params().keys()"
   ]
  },
  {
   "cell_type": "code",
   "execution_count": 115,
   "metadata": {},
   "outputs": [
    {
     "name": "stdout",
     "output_type": "stream",
     "text": [
      "tn: 1990, fp: 0, fn: 112, tp: 0\n"
     ]
    }
   ],
   "source": [
    "y_pred = gs_rf.predict(X_test)\n",
    "tn, fp, fn, tp = confusion_matrix(y_test, y_pred).ravel()\n",
    "print(\"tn: {}, fp: {}, fn: {}, tp: {}\".format (tn, fp, fn, tp))"
   ]
  },
  {
   "cell_type": "code",
   "execution_count": null,
   "metadata": {},
   "outputs": [],
   "source": [
    "# sample_submission = pd.read_csv('./assets/sampleSubmission.csv')\n",
    "# sample_submission['WnvPresent'] = predictions\n",
    "# sample_submission.to_csv('submission_randomforest.csv', index=False)"
   ]
  },
  {
   "cell_type": "markdown",
   "metadata": {},
   "source": [
    "##### AdaBoost"
   ]
  },
  {
   "cell_type": "code",
   "execution_count": 116,
   "metadata": {},
   "outputs": [
    {
     "name": "stdout",
     "output_type": "stream",
     "text": [
      "0.9466920514040933\n",
      "{'n_estimators': 1}\n"
     ]
    }
   ],
   "source": [
    "from sklearn.ensemble import AdaBoostClassifier\n",
    "ada_r = AdaBoostClassifier()\n",
    "\n",
    "params = {\n",
    "    'n_estimators':range(1,7)\n",
    "}\n",
    "gs_ada = GridSearchCV(ada_r, param_grid = params)\n",
    "gs_ada.fit(X_train, y_train)\n",
    "print(gs_ada.best_score_)\n",
    "print(gs_ada.best_params_)"
   ]
  },
  {
   "cell_type": "code",
   "execution_count": 117,
   "metadata": {},
   "outputs": [
    {
     "data": {
      "text/plain": [
       "dict_keys(['cv', 'error_score', 'estimator__algorithm', 'estimator__base_estimator', 'estimator__learning_rate', 'estimator__n_estimators', 'estimator__random_state', 'estimator', 'fit_params', 'iid', 'n_jobs', 'param_grid', 'pre_dispatch', 'refit', 'return_train_score', 'scoring', 'verbose'])"
      ]
     },
     "execution_count": 117,
     "metadata": {},
     "output_type": "execute_result"
    }
   ],
   "source": [
    "gs_ada.get_params().keys()"
   ]
  },
  {
   "cell_type": "code",
   "execution_count": 118,
   "metadata": {},
   "outputs": [
    {
     "name": "stdout",
     "output_type": "stream",
     "text": [
      "tn: 1990, fp: 0, fn: 112, tp: 0\n"
     ]
    }
   ],
   "source": [
    "y_pred = gs_ada.predict(X_test)\n",
    "tn, fp, fn, tp = confusion_matrix(y_test, y_pred).ravel()\n",
    "print(\"tn: {}, fp: {}, fn: {}, tp: {}\".format (tn, fp, fn, tp))"
   ]
  },
  {
   "cell_type": "markdown",
   "metadata": {},
   "source": [
    "#### Support Vector Classifier"
   ]
  },
  {
   "cell_type": "code",
   "execution_count": 119,
   "metadata": {},
   "outputs": [
    {
     "name": "stdout",
     "output_type": "stream",
     "text": [
      "0.9467174119885823\n"
     ]
    }
   ],
   "source": [
    "from sklearn.svm import SVC\n",
    "clf_c = SVC(kernel='linear')\n",
    "\n",
    "clf_c_pipe = Pipeline([ \n",
    "    ('clf',clf_c), \n",
    "])\n",
    "\n",
    "clf_c_pipe.fit(X_train, y_train)\n",
    "print(clf_c_pipe.score(X_test, y_test))"
   ]
  },
  {
   "cell_type": "code",
   "execution_count": 120,
   "metadata": {},
   "outputs": [
    {
     "data": {
      "text/plain": [
       "dict_keys(['memory', 'steps', 'clf', 'clf__C', 'clf__cache_size', 'clf__class_weight', 'clf__coef0', 'clf__decision_function_shape', 'clf__degree', 'clf__gamma', 'clf__kernel', 'clf__max_iter', 'clf__probability', 'clf__random_state', 'clf__shrinking', 'clf__tol', 'clf__verbose'])"
      ]
     },
     "execution_count": 120,
     "metadata": {},
     "output_type": "execute_result"
    }
   ],
   "source": [
    "clf_c_pipe.get_params().keys()"
   ]
  },
  {
   "cell_type": "code",
   "execution_count": 121,
   "metadata": {},
   "outputs": [
    {
     "name": "stdout",
     "output_type": "stream",
     "text": [
      "tn: 1990, fp: 0, fn: 112, tp: 0\n"
     ]
    }
   ],
   "source": [
    "y_pred = clf_c_pipe.predict(X_test)\n",
    "tn, fp, fn, tp = confusion_matrix(y_test, y_pred).ravel()\n",
    "print(\"tn: {}, fp: {}, fn: {}, tp: {}\".format (tn, fp, fn, tp))"
   ]
  },
  {
   "cell_type": "markdown",
   "metadata": {},
   "source": [
    "##### CNN"
   ]
  },
  {
   "cell_type": "code",
   "execution_count": 122,
   "metadata": {},
   "outputs": [
    {
     "name": "stderr",
     "output_type": "stream",
     "text": [
      "/Users/kirosgebremariam/anaconda3/envs/dsi/lib/python3.6/site-packages/h5py/__init__.py:36: FutureWarning: Conversion of the second argument of issubdtype from `float` to `np.floating` is deprecated. In future, it will be treated as `np.float64 == np.dtype(float).type`.\n",
      "  from ._conv import register_converters as _register_converters\n",
      "Using TensorFlow backend.\n"
     ]
    }
   ],
   "source": [
    "from keras.models import Sequential\n",
    "from keras.layers import Dense\n",
    "import matplotlib.pyplot as plt"
   ]
  },
  {
   "cell_type": "code",
   "execution_count": 123,
   "metadata": {},
   "outputs": [],
   "source": [
    "ss = StandardScaler()\n",
    "X_train = ss.fit_transform(X_train)\n",
    "X_test = ss.transform(X_test)"
   ]
  },
  {
   "cell_type": "code",
   "execution_count": 124,
   "metadata": {},
   "outputs": [
    {
     "name": "stdout",
     "output_type": "stream",
     "text": [
      "Train on 6303 samples, validate on 2102 samples\n",
      "Epoch 1/30\n",
      "6303/6303 [==============================] - 1s 142us/step - loss: 0.4609 - acc: 0.8068 - val_loss: 0.2609 - val_acc: 0.9467\n",
      "Epoch 2/30\n",
      "6303/6303 [==============================] - 1s 96us/step - loss: 0.2176 - acc: 0.9467 - val_loss: 0.2002 - val_acc: 0.9467\n",
      "Epoch 3/30\n",
      "6303/6303 [==============================] - 1s 98us/step - loss: 0.1893 - acc: 0.9467 - val_loss: 0.1878 - val_acc: 0.9467\n",
      "Epoch 4/30\n",
      "6303/6303 [==============================] - 1s 94us/step - loss: 0.1819 - acc: 0.9467 - val_loss: 0.1825 - val_acc: 0.9467\n",
      "Epoch 5/30\n",
      "6303/6303 [==============================] - 1s 97us/step - loss: 0.1782 - acc: 0.9467 - val_loss: 0.1790 - val_acc: 0.9467\n",
      "Epoch 6/30\n",
      "6303/6303 [==============================] - 1s 91us/step - loss: 0.1757 - acc: 0.9469 - val_loss: 0.1770 - val_acc: 0.9467\n",
      "Epoch 7/30\n",
      "6303/6303 [==============================] - 1s 93us/step - loss: 0.1742 - acc: 0.9472 - val_loss: 0.1750 - val_acc: 0.9467\n",
      "Epoch 8/30\n",
      "6303/6303 [==============================] - 1s 92us/step - loss: 0.1727 - acc: 0.9470 - val_loss: 0.1739 - val_acc: 0.9467\n",
      "Epoch 9/30\n",
      "6303/6303 [==============================] - 1s 89us/step - loss: 0.1713 - acc: 0.9467 - val_loss: 0.1735 - val_acc: 0.9467\n",
      "Epoch 10/30\n",
      "6303/6303 [==============================] - 1s 86us/step - loss: 0.1704 - acc: 0.9472 - val_loss: 0.1718 - val_acc: 0.9467\n",
      "Epoch 11/30\n",
      "6303/6303 [==============================] - 1s 86us/step - loss: 0.1694 - acc: 0.9472 - val_loss: 0.1707 - val_acc: 0.9467\n",
      "Epoch 12/30\n",
      "6303/6303 [==============================] - 1s 88us/step - loss: 0.1686 - acc: 0.9472 - val_loss: 0.1702 - val_acc: 0.9467\n",
      "Epoch 13/30\n",
      "6303/6303 [==============================] - 1s 86us/step - loss: 0.1680 - acc: 0.9472 - val_loss: 0.1695 - val_acc: 0.9467\n",
      "Epoch 14/30\n",
      "6303/6303 [==============================] - 1s 90us/step - loss: 0.1673 - acc: 0.9469 - val_loss: 0.1688 - val_acc: 0.9467\n",
      "Epoch 15/30\n",
      "6303/6303 [==============================] - 1s 85us/step - loss: 0.1667 - acc: 0.9465 - val_loss: 0.1682 - val_acc: 0.9467\n",
      "Epoch 16/30\n",
      "6303/6303 [==============================] - 1s 86us/step - loss: 0.1661 - acc: 0.9465 - val_loss: 0.1675 - val_acc: 0.9467\n",
      "Epoch 17/30\n",
      "6303/6303 [==============================] - 1s 87us/step - loss: 0.1656 - acc: 0.9467 - val_loss: 0.1671 - val_acc: 0.9467\n",
      "Epoch 18/30\n",
      "6303/6303 [==============================] - 1s 88us/step - loss: 0.1650 - acc: 0.9473 - val_loss: 0.1664 - val_acc: 0.9467\n",
      "Epoch 19/30\n",
      "6303/6303 [==============================] - 1s 87us/step - loss: 0.1646 - acc: 0.9469 - val_loss: 0.1665 - val_acc: 0.9467\n",
      "Epoch 20/30\n",
      "6303/6303 [==============================] - 1s 85us/step - loss: 0.1641 - acc: 0.9470 - val_loss: 0.1660 - val_acc: 0.9467\n",
      "Epoch 21/30\n",
      "6303/6303 [==============================] - 1s 93us/step - loss: 0.1638 - acc: 0.9469 - val_loss: 0.1660 - val_acc: 0.9467\n",
      "Epoch 22/30\n",
      "6303/6303 [==============================] - 1s 81us/step - loss: 0.1634 - acc: 0.9470 - val_loss: 0.1659 - val_acc: 0.9467\n",
      "Epoch 23/30\n",
      "6303/6303 [==============================] - 1s 89us/step - loss: 0.1630 - acc: 0.9475 - val_loss: 0.1660 - val_acc: 0.9467\n",
      "Epoch 24/30\n",
      "6303/6303 [==============================] - 1s 89us/step - loss: 0.1625 - acc: 0.9465 - val_loss: 0.1651 - val_acc: 0.9467\n",
      "Epoch 25/30\n",
      "6303/6303 [==============================] - 1s 86us/step - loss: 0.1623 - acc: 0.9470 - val_loss: 0.1658 - val_acc: 0.9448\n",
      "Epoch 26/30\n",
      "6303/6303 [==============================] - 1s 90us/step - loss: 0.1622 - acc: 0.9467 - val_loss: 0.1646 - val_acc: 0.9467\n",
      "Epoch 27/30\n",
      "6303/6303 [==============================] - 1s 84us/step - loss: 0.1616 - acc: 0.9470 - val_loss: 0.1645 - val_acc: 0.9467\n",
      "Epoch 28/30\n",
      "6303/6303 [==============================] - 1s 85us/step - loss: 0.1615 - acc: 0.9465 - val_loss: 0.1646 - val_acc: 0.9458\n",
      "Epoch 29/30\n",
      "6303/6303 [==============================] - 1s 85us/step - loss: 0.1613 - acc: 0.9467 - val_loss: 0.1637 - val_acc: 0.9467\n",
      "Epoch 30/30\n",
      "6303/6303 [==============================] - 1s 86us/step - loss: 0.1610 - acc: 0.9469 - val_loss: 0.1636 - val_acc: 0.9467\n"
     ]
    }
   ],
   "source": [
    "from keras import regularizers\n",
    "import numpy as np\n",
    "from keras.layers import Dropout\n",
    "from keras.callbacks import EarlyStopping\n",
    "\n",
    "np.random.seed(42)\n",
    "\n",
    "model= Sequential()\n",
    "\n",
    "n_input = X_train.shape[1]\n",
    "n_hidden = n_input\n",
    "n_output = 1\n",
    "\n",
    "model.add(Dense(n_hidden, input_dim=n_input, activation='relu'))\n",
    "model.add(Dense(n_output, activation='sigmoid'))\n",
    "\n",
    "model.compile(loss='binary_crossentropy', optimizer='adam', \n",
    "                metrics=['acc'])\n",
    "\n",
    "#early_stop = EarlyStopping(monitor='val_loss', min_delta=0) \n",
    "\n",
    "\n",
    "history = model.fit(X_train, y_train, validation_data=(X_test, y_test),\n",
    "                      epochs=30, batch_size=None)\n",
    "                     # callbacks=[early_stop])"
   ]
  },
  {
   "cell_type": "code",
   "execution_count": 125,
   "metadata": {},
   "outputs": [
    {
     "data": {
      "text/plain": [
       "<matplotlib.legend.Legend at 0x1a2ee77fd0>"
      ]
     },
     "execution_count": 125,
     "metadata": {},
     "output_type": "execute_result"
    },
    {
     "name": "stderr",
     "output_type": "stream",
     "text": [
      "/Users/kirosgebremariam/anaconda3/envs/dsi/lib/python3.6/site-packages/matplotlib/figure.py:2267: UserWarning: This figure includes Axes that are not compatible with tight_layout, so results might be incorrect.\n",
      "  warnings.warn(\"This figure includes Axes that are not compatible \"\n"
     ]
    },
    {
     "data": {
      "image/png": "[encoded data removed]",
      "text/plain": [
       "<Figure size 720x576 with 1 Axes>"
      ]
     },
     "metadata": {
      "image/png": {
       "height": 568,
       "width": 712
      }
     },
     "output_type": "display_data"
    }
   ],
   "source": [
    "train_loss_2 = history.history['loss']\n",
    "test_loss_2 = history.history['val_loss']\n",
    "plt.plot(train_loss_2, label='Training loss')\n",
    "plt.plot(test_loss_2, label='Testing loss')\n",
    "plt.legend()"
   ]
  },
  {
   "cell_type": "markdown",
   "metadata": {},
   "source": [
    "##### MODEL EVALUATION"
   ]
  },
  {
   "cell_type": "code",
   "execution_count": 128,
   "metadata": {},
   "outputs": [],
   "source": [
    "from sklearn.metrics import confusion_matrix\n",
    "\n",
    "def evaluate (X_test, y_test, model):\n",
    "    y_pred = model.predict(X_test)\n",
    "    tn, fp, fn, tp = confusion_matrix(y_test, y_pred).ravel()\n",
    "    return(\"tn: {}, fp: {}, fn: {}, tp: {}\".format (tn, fp, fn, tp))"
   ]
  },
  {
   "cell_type": "code",
   "execution_count": 129,
   "metadata": {},
   "outputs": [
    {
     "name": "stdout",
     "output_type": "stream",
     "text": [
      "tn: 738, fp: 1252, fn: 9, tp: 103\n",
      "tn: 1990, fp: 0, fn: 112, tp: 0\n",
      "tn: 1990, fp: 0, fn: 112, tp: 0\n",
      "tn: 1990, fp: 0, fn: 112, tp: 0\n",
      "tn: 1990, fp: 0, fn: 112, tp: 0\n"
     ]
    }
   ],
   "source": [
    "models = [logreg, gs_dt, gs_rf, gs_ada, clf_c_pipe]\n",
    "for model in models:\n",
    "    print (evaluate (X_test, y_test, model))"
   ]
  },
  {
   "cell_type": "markdown",
   "metadata": {},
   "source": [
    "####  Final words "
   ]
  },
  {
   "cell_type": "markdown",
   "metadata": {},
   "source": [
    "\n",
    "The training scores and Kaggle submission scores correlated fairly well, although the Kaggle submission score usually about a tenth of a point lower. This is an indication that model results probably have some validity. Possible ways of improving the model: include features for cumulative weather conditions; these could include average temperature over the past week, average precipitation over the past week, and number of days without preciptiation."
   ]
  },
  {
   "cell_type": "code",
   "execution_count": null,
   "metadata": {},
   "outputs": [],
   "source": []
  },
  {
   "cell_type": "code",
   "execution_count": null,
   "metadata": {},
   "outputs": [],
   "source": []
  },
  {
   "cell_type": "code",
   "execution_count": null,
   "metadata": {},
   "outputs": [],
   "source": []
  },
  {
   "cell_type": "code",
   "execution_count": null,
   "metadata": {},
   "outputs": [],
   "source": []
  },
  {
   "cell_type": "code",
   "execution_count": null,
   "metadata": {},
   "outputs": [],
   "source": []
  },
  {
   "cell_type": "code",
   "execution_count": null,
   "metadata": {},
   "outputs": [],
   "source": []
  }
 ],
 "metadata": {
  "kernelspec": {
   "display_name": "Python [conda env:dsi]",
   "language": "python",
   "name": "conda-env-dsi-py"
  },
  "language_info": {
   "codemirror_mode": {
    "name": "ipython",
    "version": 3
   },
   "file_extension": ".py",
   "mimetype": "text/x-python",
   "name": "python",
   "nbconvert_exporter": "python",
   "pygments_lexer": "ipython3",
   "version": "3.6.5"
  }
 },
 "nbformat": 4,
 "nbformat_minor": 2
}
